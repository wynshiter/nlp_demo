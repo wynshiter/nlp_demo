{
 "cells": [
  {
   "cell_type": "code",
   "execution_count": 1,
   "metadata": {},
   "outputs": [
    {
     "name": "stdout",
     "output_type": "stream",
     "text": [
      "Collecting cocoNLP\n",
      "  Downloading cocoNLP-0.0.13.tar.gz (88 kB)\n",
      "Requirement already satisfied: jieba in d:\\programdata\\anaconda3\\envs\\nlp_demo\\lib\\site-packages (from cocoNLP) (0.39)\n",
      "Requirement already satisfied: pyhanlp in d:\\programdata\\anaconda3\\envs\\nlp_demo\\lib\\site-packages (from cocoNLP) (0.1.48)\n",
      "Processing c:\\users\\lenovo\\appdata\\local\\pip\\cache\\wheels\\c2\\e6\\35\\2fd42c56100efa7c9cffc084316131479ee2fef5daaf0c6259\\phone-0.4.2-py3-none-any.whl\n",
      "Collecting phonenumbers\n",
      "  Using cached phonenumbers-8.12.14-py2.py3-none-any.whl (2.6 MB)\n",
      "Requirement already satisfied: regex in d:\\programdata\\anaconda3\\envs\\nlp_demo\\lib\\site-packages (from cocoNLP) (2020.6.8)\n",
      "Collecting arrow\n",
      "  Using cached arrow-0.17.0-py2.py3-none-any.whl (50 kB)\n",
      "Requirement already satisfied: jpype1>=0.7.0 in d:\\programdata\\anaconda3\\envs\\nlp_demo\\lib\\site-packages (from pyhanlp->cocoNLP) (0.7.0)\n",
      "Requirement already satisfied: python-dateutil>=2.7.0 in d:\\programdata\\anaconda3\\envs\\nlp_demo\\lib\\site-packages (from arrow->cocoNLP) (2.8.1)\n",
      "Requirement already satisfied: six>=1.5 in d:\\programdata\\anaconda3\\envs\\nlp_demo\\lib\\site-packages (from python-dateutil>=2.7.0->arrow->cocoNLP) (1.15.0)\n",
      "Building wheels for collected packages: cocoNLP\n",
      "  Building wheel for cocoNLP (setup.py): started\n",
      "  Building wheel for cocoNLP (setup.py): finished with status 'done'\n",
      "  Created wheel for cocoNLP: filename=cocoNLP-0.0.13-py3-none-any.whl size=108426 sha256=3d6d11ee0500a84107069ae5d757f776d07757ed66ec15703b27c16c569c82c4\n",
      "  Stored in directory: c:\\users\\lenovo\\appdata\\local\\pip\\cache\\wheels\\72\\9a\\f0\\77ff5205522a73e14978d370e1e73d4d277ae50792e6977663\n",
      "Successfully built cocoNLP\n",
      "Installing collected packages: phone, phonenumbers, arrow, cocoNLP\n",
      "Successfully installed arrow-0.17.0 cocoNLP-0.0.13 phone-0.4.2 phonenumbers-8.12.14\n"
     ]
    }
   ],
   "source": [
    "!pip install cocoNLP"
   ]
  },
  {
   "cell_type": "code",
   "execution_count": 5,
   "metadata": {},
   "outputs": [
    {
     "name": "stdout",
     "output_type": "stream",
     "text": [
      "['shiter@live.cn', 'shiter@live.com']\n",
      "['19991219999', '13261562999']\n",
      "[{'phone': '19991219999', 'province': '陕西', 'city': '西安', 'zip_code': '710000', 'area_code': '029', 'phone_type': '电信'}, {'phone': '13261562999', 'province': '北京', 'city': '北京', 'zip_code': '100000', 'area_code': '010', 'phone_type': '联通'}]\n",
      "{\"type\": \"timespan\", \"timespan\": [\"2020-12-05 00:00:00\", \"2020-12-07 00:00:00\"]}\n"
     ]
    }
   ],
   "source": [
    "from cocoNLP.extractor import extractor\n",
    "\n",
    "ex = extractor()\n",
    "\n",
    "text = '''\n",
    "西安新闻网讯 2020年12月5日至7日，2020年西安市青少年排球公开赛在西安市曲江第一中学精彩举行。\n",
    "本次比赛是继今年9月份举办的西安市青少年排球锦标赛之后，古城举办的规模最大、规格和水平最高的青少年排球赛事，\n",
    "通过高水平的网络直播，本次赛事的影响力进一步得到了扩大和提升。\n",
    "其他新闻请联系：19991219999，132-6156-2999，shiter@live.cn和shiter at live dot com'''\n",
    "\n",
    "# 抽取邮箱\n",
    "emails = ex.extract_email(text)\n",
    "print(emails)\n",
    "\n",
    "# 抽取手机号\n",
    "cellphones = ex.extract_cellphone(text,nation='CHN')\n",
    "print(cellphones)\n",
    "# 抽取手机归属地、运营商\n",
    "cell_locs = [ex.extract_cellphone_location(cell,'CHN') for cell in cellphones]\n",
    "print(cell_locs)\n",
    "# 抽取时间点\n",
    "times = ex.extract_time(text)\n",
    "print(times)\n"
   ]
  },
  {
   "cell_type": "code",
   "execution_count": null,
   "metadata": {},
   "outputs": [],
   "source": []
  }
 ],
 "metadata": {
  "kernelspec": {
   "display_name": "Python [conda env:NLP_DEMO]",
   "language": "python",
   "name": "conda-env-NLP_DEMO-py"
  },
  "language_info": {
   "codemirror_mode": {
    "name": "ipython",
    "version": 3
   },
   "file_extension": ".py",
   "mimetype": "text/x-python",
   "name": "python",
   "nbconvert_exporter": "python",
   "pygments_lexer": "ipython3",
   "version": "3.6.8"
  },
  "toc": {
   "base_numbering": 1,
   "nav_menu": {},
   "number_sections": true,
   "sideBar": true,
   "skip_h1_title": false,
   "title_cell": "Table of Contents",
   "title_sidebar": "Contents",
   "toc_cell": false,
   "toc_position": {},
   "toc_section_display": true,
   "toc_window_display": false
  }
 },
 "nbformat": 4,
 "nbformat_minor": 4
}
