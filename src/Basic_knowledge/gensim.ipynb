{
 "cells": [
  {
   "cell_type": "code",
   "execution_count": null,
   "metadata": {},
   "outputs": [],
   "source": []
  },
  {
   "cell_type": "code",
   "execution_count": 1,
   "metadata": {},
   "outputs": [
    {
     "name": "stdout",
     "output_type": "stream",
     "text": [
      "Name: gensim\n",
      "Version: 3.8.3\n",
      "Summary: Python framework for fast Vector Space Modelling\n",
      "Home-page: http://radimrehurek.com/gensim\n",
      "Author: Radim Rehurek\n",
      "Author-email: me@radimrehurek.com\n",
      "License: LGPLv2.1\n",
      "Location: c:\\programdata\\anaconda3\\envs\\tf2\\lib\\site-packages\n",
      "Requires: scipy, numpy, six, smart-open\n",
      "Required-by: \n"
     ]
    }
   ],
   "source": [
    "!pip show gensim"
   ]
  },
  {
   "cell_type": "markdown",
   "metadata": {},
   "source": [
    "# 安装注意事项\n",
    "\n",
    "使用gensim 会出现各种问题： 以下原则：\n",
    "（1）先用pip uninstall +包名命令依次将numpy，scipy，gensim卸载。\n",
    "\n",
    "（2）再按numpy，scipy，gensim顺序依次安装，能够解决这一问题。\n",
    "\n",
    "pip install numpy -i https://pypi.douban.com/simple\n",
    "\n",
    "pip install scipy -i https://pypi.douban.com/simple\n",
    "\n",
    "pip install gensim -i https://pypi.douban.com/simple"
   ]
  },
  {
   "cell_type": "code",
   "execution_count": null,
   "metadata": {},
   "outputs": [],
   "source": []
  },
  {
   "cell_type": "code",
   "execution_count": 2,
   "metadata": {},
   "outputs": [
    {
     "name": "stderr",
     "output_type": "stream",
     "text": [
      "Building prefix dict from the default dictionary ...\n",
      "Loading model from cache C:\\Users\\wangyny\\AppData\\Local\\Temp\\jieba.cache\n",
      "Loading model cost 0.834 seconds.\n",
      "Prefix dict has been built successfully.\n"
     ]
    },
    {
     "data": {
      "text/plain": [
       "['今天天气', '不错']"
      ]
     },
     "execution_count": 2,
     "metadata": {},
     "output_type": "execute_result"
    }
   ],
   "source": [
    "import jieba\n",
    "res = jieba.cut(\"今天天气不错\")\n",
    "[word for word in res]"
   ]
  },
  {
   "cell_type": "code",
   "execution_count": 3,
   "metadata": {},
   "outputs": [
    {
     "name": "stdout",
     "output_type": "stream",
     "text": [
      "Dictionary(66 unique tokens: ['不错', '今天天气', '挺', '的', '风和日丽']...)\n",
      "[[(0, 1), (1, 1)], [(2, 1), (3, 1), (4, 1)], [(5, 1), (6, 1), (7, 1), (8, 1)], [(3, 1), (9, 1), (10, 1), (11, 1)], [(3, 1), (12, 1), (13, 1), (14, 1), (15, 1), (16, 1), (17, 1), (18, 1), (19, 1)], [(20, 1), (21, 1), (22, 1), (23, 1), (24, 1), (25, 1), (26, 1), (27, 1), (28, 1)], [(3, 1), (11, 1), (16, 1), (29, 1), (30, 1), (31, 1), (32, 1), (33, 1), (34, 1)], [(2, 1), (3, 1), (35, 1), (36, 1), (37, 1), (38, 1), (39, 1), (40, 1)], [(7, 1), (31, 1), (33, 1), (41, 1), (42, 1), (43, 1), (44, 1), (45, 1), (46, 1), (47, 1), (48, 1)], [(16, 1), (20, 1), (24, 1), (49, 1)], [(20, 1), (50, 1)], [(51, 1), (52, 1), (53, 1), (54, 1), (55, 1)], [(11, 1), (16, 2), (56, 1), (57, 1), (58, 1)], [(59, 1), (60, 1)], [(11, 1), (33, 1), (61, 1), (62, 1), (63, 1), (64, 1), (65, 1)]]\n"
     ]
    },
    {
     "data": {
      "text/plain": [
       "(<gensim.corpora.dictionary.Dictionary at 0x1a5e5646460>,\n",
       " [[(0, 1), (1, 1)],\n",
       "  [(2, 1), (3, 1), (4, 1)],\n",
       "  [(5, 1), (6, 1), (7, 1), (8, 1)],\n",
       "  [(3, 1), (9, 1), (10, 1), (11, 1)],\n",
       "  [(3, 1),\n",
       "   (12, 1),\n",
       "   (13, 1),\n",
       "   (14, 1),\n",
       "   (15, 1),\n",
       "   (16, 1),\n",
       "   (17, 1),\n",
       "   (18, 1),\n",
       "   (19, 1)],\n",
       "  [(20, 1),\n",
       "   (21, 1),\n",
       "   (22, 1),\n",
       "   (23, 1),\n",
       "   (24, 1),\n",
       "   (25, 1),\n",
       "   (26, 1),\n",
       "   (27, 1),\n",
       "   (28, 1)],\n",
       "  [(3, 1),\n",
       "   (11, 1),\n",
       "   (16, 1),\n",
       "   (29, 1),\n",
       "   (30, 1),\n",
       "   (31, 1),\n",
       "   (32, 1),\n",
       "   (33, 1),\n",
       "   (34, 1)],\n",
       "  [(2, 1), (3, 1), (35, 1), (36, 1), (37, 1), (38, 1), (39, 1), (40, 1)],\n",
       "  [(7, 1),\n",
       "   (31, 1),\n",
       "   (33, 1),\n",
       "   (41, 1),\n",
       "   (42, 1),\n",
       "   (43, 1),\n",
       "   (44, 1),\n",
       "   (45, 1),\n",
       "   (46, 1),\n",
       "   (47, 1),\n",
       "   (48, 1)],\n",
       "  [(16, 1), (20, 1), (24, 1), (49, 1)],\n",
       "  [(20, 1), (50, 1)],\n",
       "  [(51, 1), (52, 1), (53, 1), (54, 1), (55, 1)],\n",
       "  [(11, 1), (16, 2), (56, 1), (57, 1), (58, 1)],\n",
       "  [(59, 1), (60, 1)],\n",
       "  [(11, 1), (33, 1), (61, 1), (62, 1), (63, 1), (64, 1), (65, 1)]])"
      ]
     },
     "execution_count": 3,
     "metadata": {},
     "output_type": "execute_result"
    }
   ],
   "source": [
    "from gensim import corpora, models, similarities\n",
    "from pprint import pprint\n",
    "\n",
    "def GenDictandCorpus():\n",
    "    documents = [\"今天天气不错\",\n",
    "\"挺风和日丽的\",\n",
    "\"我们下午没有课\",\n",
    "\"这的确挺爽的\",\n",
    "\"我一大中午早早的跑去上自习\",\n",
    "\"心里琢磨着大学生活是多么美好啊\",\n",
    "\"这一眨眼的功夫我就进了主楼\",\n",
    "\"要说俺们这嘎瘩自习室其实挺多的\",\n",
    "\"可是你桌上没有书包占座那就难找了\",\n",
    "\"我是跋山涉水啊\",\n",
    "\"翻山越岭啊\",\n",
    "\"好不容易来到一个桃源深处\",\n",
    "\"我这一推门我考\",\n",
    "\"真是豁然开朗\",\n",
    "\"这教室就真没多少人\"]\n",
    "    \n",
    "#     documents = [\n",
    "#     \"Human machine interface for lab abc computer applications\",\n",
    "#     \"A survey of user opinion of computer system response time\",\n",
    "#     \"The EPS user interface management system\",\n",
    "#     \"System and human system engineering testing of EPS\",\n",
    "#     \"Relation of user perceived response time to error measurement\",\n",
    "#     \"The generation of random binary unordered trees\",\n",
    "#     \"The intersection graph of paths in trees\",\n",
    "#     \"Graph minors IV Widths of trees and well quasi ordering\",\n",
    "#     \"Graph minors A survey\",\n",
    "# ]\n",
    "#document.lower().split()\n",
    "    texts = [[word for word in jieba.cut(document)] for document in documents]\n",
    "\n",
    "    # 词典\n",
    "    dictionary = corpora.Dictionary(texts)\n",
    "    # 词库，以(词，词频)方式存贮\n",
    "    corpus = [dictionary.doc2bow(text) for text in texts]\n",
    "    print(dictionary)\n",
    "    print(corpus)\n",
    "    return dictionary, corpus\n",
    "\n",
    "GenDictandCorpus()"
   ]
  },
  {
   "cell_type": "code",
   "execution_count": 4,
   "metadata": {},
   "outputs": [
    {
     "data": {
      "text/plain": [
       "[['今天天气', '不错'],\n",
       " ['挺', '风和日丽', '的'],\n",
       " ['我们', '下午', '没有', '课'],\n",
       " ['这', '的确', '挺爽', '的'],\n",
       " ['我', '一大', '中午', '早早', '的', '跑', '去', '上', '自习'],\n",
       " ['心里', '琢磨', '着', '大学', '生活', '是', '多么', '美好', '啊'],\n",
       " ['这', '一眨眼', '的', '功夫', '我', '就', '进', '了', '主楼'],\n",
       " ['要说', '俺们', '这嘎瘩', '自习室', '其实', '挺', '多', '的'],\n",
       " ['可是', '你', '桌上', '没有', '书包', '占座', '那', '就', '难', '找', '了'],\n",
       " ['我', '是', '跋山涉水', '啊'],\n",
       " ['翻山越岭', '啊'],\n",
       " ['好不容易', '来到', '一个', '桃源', '深处'],\n",
       " ['我', '这', '一', '推门', '我', '考'],\n",
       " ['真是', '豁然开朗'],\n",
       " ['这', '教室', '就', '真', '没', '多少', '人']]"
      ]
     },
     "execution_count": 4,
     "metadata": {},
     "output_type": "execute_result"
    }
   ],
   "source": [
    "documents = [\"今天天气不错\",\n",
    "\"挺风和日丽的\",\n",
    "\"我们下午没有课\",\n",
    "\"这的确挺爽的\",\n",
    "\"我一大中午早早的跑去上自习\",\n",
    "\"心里琢磨着大学生活是多么美好啊\",\n",
    "\"这一眨眼的功夫我就进了主楼\",\n",
    "\"要说俺们这嘎瘩自习室其实挺多的\",\n",
    "\"可是你桌上没有书包占座那就难找了\",\n",
    "\"我是跋山涉水啊\",\n",
    "\"翻山越岭啊\",\n",
    "\"好不容易来到一个桃源深处\",\n",
    "\"我这一推门我考\",\n",
    "\"真是豁然开朗\",\n",
    "\"这教室就真没多少人\"]\n",
    "    \n",
    "texts = [[word for word in jieba.cut(document)] for document in documents]\n",
    "texts"
   ]
  },
  {
   "cell_type": "markdown",
   "metadata": {},
   "source": [
    "# 计算 tfidf"
   ]
  },
  {
   "cell_type": "code",
   "execution_count": 5,
   "metadata": {},
   "outputs": [
    {
     "name": "stdout",
     "output_type": "stream",
     "text": [
      "词典: {'不错': 0, '今天天气': 1, '挺': 2, '的': 3, '风和日丽': 4, '下午': 5, '我们': 6, '没有': 7, '课': 8, '挺爽': 9, '的确': 10, '这': 11, '一大': 12, '上': 13, '中午': 14, '去': 15, '我': 16, '早早': 17, '自习': 18, '跑': 19, '啊': 20, '多么': 21, '大学': 22, '心里': 23, '是': 24, '琢磨': 25, '生活': 26, '着': 27, '美好': 28, '一眨眼': 29, '主楼': 30, '了': 31, '功夫': 32, '就': 33, '进': 34, '俺们': 35, '其实': 36, '多': 37, '自习室': 38, '要说': 39, '这嘎瘩': 40, '书包': 41, '你': 42, '占座': 43, '可是': 44, '找': 45, '桌上': 46, '那': 47, '难': 48, '跋山涉水': 49, '翻山越岭': 50, '一个': 51, '好不容易': 52, '来到': 53, '桃源': 54, '深处': 55, '一': 56, '推门': 57, '考': 58, '真是': 59, '豁然开朗': 60, '人': 61, '多少': 62, '教室': 63, '没': 64, '真': 65}\n",
      "词频: [[(0, 1), (1, 1)], [(2, 1), (3, 1), (4, 1)], [(5, 1), (6, 1), (7, 1), (8, 1)], [(3, 1), (9, 1), (10, 1), (11, 1)], [(3, 1), (12, 1), (13, 1), (14, 1), (15, 1), (16, 1), (17, 1), (18, 1), (19, 1)], [(20, 1), (21, 1), (22, 1), (23, 1), (24, 1), (25, 1), (26, 1), (27, 1), (28, 1)], [(3, 1), (11, 1), (16, 1), (29, 1), (30, 1), (31, 1), (32, 1), (33, 1), (34, 1)], [(2, 1), (3, 1), (35, 1), (36, 1), (37, 1), (38, 1), (39, 1), (40, 1)], [(7, 1), (31, 1), (33, 1), (41, 1), (42, 1), (43, 1), (44, 1), (45, 1), (46, 1), (47, 1), (48, 1)], [(16, 1), (20, 1), (24, 1), (49, 1)], [(20, 1), (50, 1)], [(51, 1), (52, 1), (53, 1), (54, 1), (55, 1)], [(11, 1), (16, 2), (56, 1), (57, 1), (58, 1)], [(59, 1), (60, 1)], [(11, 1), (33, 1), (61, 1), (62, 1), (63, 1), (64, 1), (65, 1)]]\n",
      "词的tf-idf值: [[(0, 3.9068905956085187), (1, 3.9068905956085187)], [(2, 2.9068905956085187), (3, 1.5849625007211563), (4, 3.9068905956085187)], [(5, 3.9068905956085187), (6, 3.9068905956085187), (7, 2.9068905956085187), (8, 3.9068905956085187)], [(3, 1.5849625007211563), (9, 3.9068905956085187), (10, 3.9068905956085187), (11, 1.9068905956085187)], [(3, 1.5849625007211563), (12, 3.9068905956085187), (13, 3.9068905956085187), (14, 3.9068905956085187), (15, 3.9068905956085187), (16, 1.9068905956085187), (17, 3.9068905956085187), (18, 3.9068905956085187), (19, 3.9068905956085187)], [(20, 2.321928094887362), (21, 3.9068905956085187), (22, 3.9068905956085187), (23, 3.9068905956085187), (24, 2.9068905956085187), (25, 3.9068905956085187), (26, 3.9068905956085187), (27, 3.9068905956085187), (28, 3.9068905956085187)], [(3, 1.5849625007211563), (11, 1.9068905956085187), (16, 1.9068905956085187), (29, 3.9068905956085187), (30, 3.9068905956085187), (31, 2.9068905956085187), (32, 3.9068905956085187), (33, 2.321928094887362), (34, 3.9068905956085187)], [(2, 2.9068905956085187), (3, 1.5849625007211563), (35, 3.9068905956085187), (36, 3.9068905956085187), (37, 3.9068905956085187), (38, 3.9068905956085187), (39, 3.9068905956085187), (40, 3.9068905956085187)], [(7, 2.9068905956085187), (31, 2.9068905956085187), (33, 2.321928094887362), (41, 3.9068905956085187), (42, 3.9068905956085187), (43, 3.9068905956085187), (44, 3.9068905956085187), (45, 3.9068905956085187), (46, 3.9068905956085187), (47, 3.9068905956085187), (48, 3.9068905956085187)], [(16, 1.9068905956085187), (20, 2.321928094887362), (24, 2.9068905956085187), (49, 3.9068905956085187)], [(20, 2.321928094887362), (50, 3.9068905956085187)], [(51, 3.9068905956085187), (52, 3.9068905956085187), (53, 3.9068905956085187), (54, 3.9068905956085187), (55, 3.9068905956085187)], [(11, 1.9068905956085187), (16, 3.8137811912170374), (56, 3.9068905956085187), (57, 3.9068905956085187), (58, 3.9068905956085187)], [(59, 3.9068905956085187), (60, 3.9068905956085187)], [(11, 1.9068905956085187), (33, 2.321928094887362), (61, 3.9068905956085187), (62, 3.9068905956085187), (63, 3.9068905956085187), (64, 3.9068905956085187), (65, 3.9068905956085187)]]\n"
     ]
    }
   ],
   "source": [
    "from gensim.models.tfidfmodel import TfidfModel\n",
    "from gensim import corpora\n",
    " \n",
    "dictionary = corpora.Dictionary(texts)\n",
    "corpus = [dictionary.doc2bow(text) for text in texts]\n",
    "tf_idf_model = TfidfModel(corpus, normalize=False)\n",
    "word_tf_tdf = list(tf_idf_model[corpus])\n",
    "print('词典:', dictionary.token2id)\n",
    "print('词频:', corpus)\n",
    "print('词的tf-idf值:', word_tf_tdf)\n"
   ]
  },
  {
   "cell_type": "code",
   "execution_count": 6,
   "metadata": {},
   "outputs": [
    {
     "name": "stdout",
     "output_type": "stream",
     "text": [
      "自习室\t0.9144332402357144\n",
      "自习\t0.8044014516000001\n",
      "主楼\t0.7548909387\n",
      "桃源\t0.7226062870071429\n",
      "书包\t0.6683844906935714\n",
      "推门\t0.6303931311957143\n",
      "教室\t0.5938163566842858\n",
      "琢磨\t0.5505939401785714\n",
      "功夫\t0.5395206030228572\n",
      "没有\t0.4446890807357143\n",
      "大学\t0.408158087325\n",
      "来到\t0.3846919202935714\n",
      "生活\t0.33099017379071427\n"
     ]
    }
   ],
   "source": [
    "import jieba.analyse\n",
    "#  jieba库tfidf 对比\n",
    "top_word_dict_TFIDF = {}\n",
    "def getTopkeyWordsTFIDF(topK=100,content = ''):\n",
    "    try:\n",
    "        #jieba.analyse.set_stop_words(stop_word_file_path)\n",
    "        tags = jieba.analyse.extract_tags(content, topK, withWeight=True,allowPOS=('ns', 'n', 'vn', 'v'))\n",
    "        for v, n in tags:\n",
    "            print (v + '\\t' + str((n )))\n",
    "            top_word_dict_TFIDF[v] = n * 100\n",
    "            #tfidf *100 作为词频\n",
    "    except Exception as e:\n",
    "        print(e)\n",
    "    finally:\n",
    "        pass\n",
    "    \n",
    "getTopkeyWordsTFIDF(content = ''.join(documents))"
   ]
  },
  {
   "cell_type": "code",
   "execution_count": 7,
   "metadata": {},
   "outputs": [
    {
     "data": {
      "text/plain": [
       "[['今天天气', '不错'],\n",
       " ['挺', '风和日丽', '的'],\n",
       " ['我们', '下午', '没有', '课'],\n",
       " ['这', '的确', '挺爽', '的'],\n",
       " ['我', '一大', '中午', '早早', '的', '跑', '去', '上', '自习'],\n",
       " ['心里', '琢磨', '着', '大学', '生活', '是', '多么', '美好', '啊'],\n",
       " ['这', '一眨眼', '的', '功夫', '我', '就', '进', '了', '主楼'],\n",
       " ['要说', '俺们', '这嘎瘩', '自习室', '其实', '挺', '多', '的'],\n",
       " ['可是', '你', '桌上', '没有', '书包', '占座', '那', '就', '难', '找', '了'],\n",
       " ['我', '是', '跋山涉水', '啊'],\n",
       " ['翻山越岭', '啊'],\n",
       " ['好不容易', '来到', '一个', '桃源', '深处'],\n",
       " ['我', '这', '一', '推门', '我', '考'],\n",
       " ['真是', '豁然开朗'],\n",
       " ['这', '教室', '就', '真', '没', '多少', '人']]"
      ]
     },
     "execution_count": 7,
     "metadata": {},
     "output_type": "execute_result"
    }
   ],
   "source": [
    "texts"
   ]
  },
  {
   "cell_type": "code",
   "execution_count": 8,
   "metadata": {},
   "outputs": [
    {
     "name": "stdout",
     "output_type": "stream",
     "text": [
      "time costed 0.14\n"
     ]
    }
   ],
   "source": [
    "# 训练词向量\n",
    "\n",
    "import gensim\n",
    "import time\n",
    "from gensim.models import Word2Vec\n",
    "#导入数据\n",
    "\n",
    "time0 = time.time()\n",
    "\n",
    "# 训练维数 100维\n",
    "#, sg=0, size=128, window=3,iter=5,min_count=3, negative=3, sample=0.001, hs=1)\n",
    "my_model = gensim.models.Word2Vec(texts,min_count=1)\n",
    "#模型保存\n",
    "my_model.wv.save_word2vec_format('./test_model.txt', binary=False)\n",
    "print ('time costed {0:.2f}'.format(time.time() - time0))"
   ]
  },
  {
   "cell_type": "code",
   "execution_count": 9,
   "metadata": {},
   "outputs": [
    {
     "data": {
      "text/html": [
       "        <script type=\"text/javascript\">\n",
       "        window.PlotlyConfig = {MathJaxConfig: 'local'};\n",
       "        if (window.MathJax) {MathJax.Hub.Config({SVG: {font: \"STIX-Web\"}});}\n",
       "        if (typeof require !== 'undefined') {\n",
       "        require.undef(\"plotly\");\n",
       "        requirejs.config({\n",
       "            paths: {\n",
       "                'plotly': ['https://cdn.plot.ly/plotly-latest.min']\n",
       "            }\n",
       "        });\n",
       "        require(['plotly'], function(Plotly) {\n",
       "            window._Plotly = Plotly;\n",
       "        });\n",
       "        }\n",
       "        </script>\n",
       "        "
      ]
     },
     "metadata": {},
     "output_type": "display_data"
    },
    {
     "data": {
      "application/vnd.plotly.v1+json": {
       "config": {
        "linkText": "Export to plot.ly",
        "plotlyServerURL": "https://plot.ly",
        "showLink": false
       },
       "data": [
        {
         "mode": "text",
         "text": [
          "今天天气",
          "不错",
          "挺",
          "风和日丽",
          "的",
          "我们",
          "下午",
          "没有",
          "课",
          "这",
          "的确",
          "挺爽",
          "我",
          "一大",
          "中午",
          "早早",
          "跑",
          "去",
          "上",
          "自习",
          "心里",
          "琢磨",
          "着",
          "大学",
          "生活",
          "是",
          "多么",
          "美好",
          "啊",
          "一眨眼",
          "功夫",
          "就",
          "进",
          "了",
          "主楼",
          "要说",
          "俺们",
          "这嘎瘩",
          "自习室",
          "其实",
          "多",
          "可是",
          "你",
          "桌上",
          "书包",
          "占座",
          "那",
          "难",
          "找",
          "跋山涉水",
          "翻山越岭",
          "好不容易",
          "来到",
          "一个",
          "桃源",
          "深处",
          "一",
          "推门",
          "考",
          "真是",
          "豁然开朗",
          "教室",
          "真",
          "没",
          "多少",
          "人"
         ],
         "type": "scatter",
         "x": [
          -3.1397511959075928,
          -58.833351135253906,
          -16.323528289794922,
          -62.78110885620117,
          25.04559326171875,
          -23.946386337280273,
          -31.20526885986328,
          -7.8099284172058105,
          21.521404266357422,
          -48.509559631347656,
          -27.1530818939209,
          26.643522262573242,
          31.20272445678711,
          8.354292869567871,
          -62.006927490234375,
          21.548738479614258,
          -32.016090393066406,
          -12.665748596191406,
          10.350564002990723,
          -2.009969711303711,
          2.5435667037963867,
          -39.03852081298828,
          -4.943638324737549,
          -21.370948791503906,
          -5.455939769744873,
          -24.642290115356445,
          9.549468040466309,
          14.329604148864746,
          -50.86919021606445,
          3.6879794597625732,
          -28.84839630126953,
          35.45866394042969,
          5.780707359313965,
          -44.56136703491211,
          38.154422760009766,
          -38.96632385253906,
          -25.17719841003418,
          -2.058683395385742,
          8.611313819885254,
          -33.210777282714844,
          -51.30893325805664,
          -26.371559143066406,
          -0.05254580080509186,
          -19.3075008392334,
          13.196877479553223,
          -14.555693626403809,
          36.06370544433594,
          8.430289268493652,
          24.25098419189453,
          1.2885743379592896,
          -10.843287467956543,
          21.95612907409668,
          -44.50416564941406,
          17.36579704284668,
          -14.846418380737305,
          -7.546443939208984,
          -30.960920333862305,
          -46.34366989135742,
          -27.945709228515625,
          -5.498513221740723,
          -16.970684051513672,
          -43.42921829223633,
          -14.246962547302246,
          -18.5246639251709,
          -12.600330352783203,
          20.806467056274414
         ],
         "y": [
          -20.733598709106445,
          -17.90743064880371,
          14.640013694763184,
          -7.73740816116333,
          -4.410489082336426,
          27.862119674682617,
          -31.202882766723633,
          21.22074317932129,
          11.695670127868652,
          -12.429664611816406,
          17.267650604248047,
          5.806061267852783,
          20.84576988220215,
          44.192352294921875,
          8.810166358947754,
          24.62752342224121,
          -14.019999504089355,
          -43.47554016113281,
          12.221366882324219,
          -7.11517858505249,
          -15.80667781829834,
          12.799540519714355,
          11.558857917785645,
          -16.538776397705078,
          32.34151840209961,
          7.110084533691406,
          -25.207216262817383,
          -0.0390559583902359,
          -2.642946720123291,
          3.2098636627197266,
          40.993003845214844,
          -2.382885217666626,
          -32.99748992919922,
          37.604896545410156,
          11.477304458618164,
          -5.9982686042785645,
          -27.618471145629883,
          39.27102279663086,
          -5.849001884460449,
          27.751543045043945,
          22.53641128540039,
          -8.042546272277832,
          -45.34159851074219,
          -0.5847893357276917,
          20.322153091430664,
          7.771456718444824,
          -14.868804931640625,
          30.51944923400879,
          38.404666900634766,
          17.73448944091797,
          -12.269495964050293,
          -36.25871276855469,
          6.82197904586792,
          -14.452156066894531,
          -22.2187442779541,
          -32.84320831298828,
          -1.2862268686294556,
          -30.875003814697266,
          -46.24011993408203,
          0.7000845670700073,
          -34.80097961425781,
          -21.770418167114258,
          -5.117351531982422,
          31.723722457885742,
          47.69808578491211,
          -21.852449417114258
         ]
        }
       ],
       "layout": {
        "template": {
         "data": {
          "bar": [
           {
            "error_x": {
             "color": "#2a3f5f"
            },
            "error_y": {
             "color": "#2a3f5f"
            },
            "marker": {
             "line": {
              "color": "#E5ECF6",
              "width": 0.5
             }
            },
            "type": "bar"
           }
          ],
          "barpolar": [
           {
            "marker": {
             "line": {
              "color": "#E5ECF6",
              "width": 0.5
             }
            },
            "type": "barpolar"
           }
          ],
          "carpet": [
           {
            "aaxis": {
             "endlinecolor": "#2a3f5f",
             "gridcolor": "white",
             "linecolor": "white",
             "minorgridcolor": "white",
             "startlinecolor": "#2a3f5f"
            },
            "baxis": {
             "endlinecolor": "#2a3f5f",
             "gridcolor": "white",
             "linecolor": "white",
             "minorgridcolor": "white",
             "startlinecolor": "#2a3f5f"
            },
            "type": "carpet"
           }
          ],
          "choropleth": [
           {
            "colorbar": {
             "outlinewidth": 0,
             "ticks": ""
            },
            "type": "choropleth"
           }
          ],
          "contour": [
           {
            "colorbar": {
             "outlinewidth": 0,
             "ticks": ""
            },
            "colorscale": [
             [
              0,
              "#0d0887"
             ],
             [
              0.1111111111111111,
              "#46039f"
             ],
             [
              0.2222222222222222,
              "#7201a8"
             ],
             [
              0.3333333333333333,
              "#9c179e"
             ],
             [
              0.4444444444444444,
              "#bd3786"
             ],
             [
              0.5555555555555556,
              "#d8576b"
             ],
             [
              0.6666666666666666,
              "#ed7953"
             ],
             [
              0.7777777777777778,
              "#fb9f3a"
             ],
             [
              0.8888888888888888,
              "#fdca26"
             ],
             [
              1,
              "#f0f921"
             ]
            ],
            "type": "contour"
           }
          ],
          "contourcarpet": [
           {
            "colorbar": {
             "outlinewidth": 0,
             "ticks": ""
            },
            "type": "contourcarpet"
           }
          ],
          "heatmap": [
           {
            "colorbar": {
             "outlinewidth": 0,
             "ticks": ""
            },
            "colorscale": [
             [
              0,
              "#0d0887"
             ],
             [
              0.1111111111111111,
              "#46039f"
             ],
             [
              0.2222222222222222,
              "#7201a8"
             ],
             [
              0.3333333333333333,
              "#9c179e"
             ],
             [
              0.4444444444444444,
              "#bd3786"
             ],
             [
              0.5555555555555556,
              "#d8576b"
             ],
             [
              0.6666666666666666,
              "#ed7953"
             ],
             [
              0.7777777777777778,
              "#fb9f3a"
             ],
             [
              0.8888888888888888,
              "#fdca26"
             ],
             [
              1,
              "#f0f921"
             ]
            ],
            "type": "heatmap"
           }
          ],
          "heatmapgl": [
           {
            "colorbar": {
             "outlinewidth": 0,
             "ticks": ""
            },
            "colorscale": [
             [
              0,
              "#0d0887"
             ],
             [
              0.1111111111111111,
              "#46039f"
             ],
             [
              0.2222222222222222,
              "#7201a8"
             ],
             [
              0.3333333333333333,
              "#9c179e"
             ],
             [
              0.4444444444444444,
              "#bd3786"
             ],
             [
              0.5555555555555556,
              "#d8576b"
             ],
             [
              0.6666666666666666,
              "#ed7953"
             ],
             [
              0.7777777777777778,
              "#fb9f3a"
             ],
             [
              0.8888888888888888,
              "#fdca26"
             ],
             [
              1,
              "#f0f921"
             ]
            ],
            "type": "heatmapgl"
           }
          ],
          "histogram": [
           {
            "marker": {
             "colorbar": {
              "outlinewidth": 0,
              "ticks": ""
             }
            },
            "type": "histogram"
           }
          ],
          "histogram2d": [
           {
            "colorbar": {
             "outlinewidth": 0,
             "ticks": ""
            },
            "colorscale": [
             [
              0,
              "#0d0887"
             ],
             [
              0.1111111111111111,
              "#46039f"
             ],
             [
              0.2222222222222222,
              "#7201a8"
             ],
             [
              0.3333333333333333,
              "#9c179e"
             ],
             [
              0.4444444444444444,
              "#bd3786"
             ],
             [
              0.5555555555555556,
              "#d8576b"
             ],
             [
              0.6666666666666666,
              "#ed7953"
             ],
             [
              0.7777777777777778,
              "#fb9f3a"
             ],
             [
              0.8888888888888888,
              "#fdca26"
             ],
             [
              1,
              "#f0f921"
             ]
            ],
            "type": "histogram2d"
           }
          ],
          "histogram2dcontour": [
           {
            "colorbar": {
             "outlinewidth": 0,
             "ticks": ""
            },
            "colorscale": [
             [
              0,
              "#0d0887"
             ],
             [
              0.1111111111111111,
              "#46039f"
             ],
             [
              0.2222222222222222,
              "#7201a8"
             ],
             [
              0.3333333333333333,
              "#9c179e"
             ],
             [
              0.4444444444444444,
              "#bd3786"
             ],
             [
              0.5555555555555556,
              "#d8576b"
             ],
             [
              0.6666666666666666,
              "#ed7953"
             ],
             [
              0.7777777777777778,
              "#fb9f3a"
             ],
             [
              0.8888888888888888,
              "#fdca26"
             ],
             [
              1,
              "#f0f921"
             ]
            ],
            "type": "histogram2dcontour"
           }
          ],
          "mesh3d": [
           {
            "colorbar": {
             "outlinewidth": 0,
             "ticks": ""
            },
            "type": "mesh3d"
           }
          ],
          "parcoords": [
           {
            "line": {
             "colorbar": {
              "outlinewidth": 0,
              "ticks": ""
             }
            },
            "type": "parcoords"
           }
          ],
          "pie": [
           {
            "automargin": true,
            "type": "pie"
           }
          ],
          "scatter": [
           {
            "marker": {
             "colorbar": {
              "outlinewidth": 0,
              "ticks": ""
             }
            },
            "type": "scatter"
           }
          ],
          "scatter3d": [
           {
            "line": {
             "colorbar": {
              "outlinewidth": 0,
              "ticks": ""
             }
            },
            "marker": {
             "colorbar": {
              "outlinewidth": 0,
              "ticks": ""
             }
            },
            "type": "scatter3d"
           }
          ],
          "scattercarpet": [
           {
            "marker": {
             "colorbar": {
              "outlinewidth": 0,
              "ticks": ""
             }
            },
            "type": "scattercarpet"
           }
          ],
          "scattergeo": [
           {
            "marker": {
             "colorbar": {
              "outlinewidth": 0,
              "ticks": ""
             }
            },
            "type": "scattergeo"
           }
          ],
          "scattergl": [
           {
            "marker": {
             "colorbar": {
              "outlinewidth": 0,
              "ticks": ""
             }
            },
            "type": "scattergl"
           }
          ],
          "scattermapbox": [
           {
            "marker": {
             "colorbar": {
              "outlinewidth": 0,
              "ticks": ""
             }
            },
            "type": "scattermapbox"
           }
          ],
          "scatterpolar": [
           {
            "marker": {
             "colorbar": {
              "outlinewidth": 0,
              "ticks": ""
             }
            },
            "type": "scatterpolar"
           }
          ],
          "scatterpolargl": [
           {
            "marker": {
             "colorbar": {
              "outlinewidth": 0,
              "ticks": ""
             }
            },
            "type": "scatterpolargl"
           }
          ],
          "scatterternary": [
           {
            "marker": {
             "colorbar": {
              "outlinewidth": 0,
              "ticks": ""
             }
            },
            "type": "scatterternary"
           }
          ],
          "surface": [
           {
            "colorbar": {
             "outlinewidth": 0,
             "ticks": ""
            },
            "colorscale": [
             [
              0,
              "#0d0887"
             ],
             [
              0.1111111111111111,
              "#46039f"
             ],
             [
              0.2222222222222222,
              "#7201a8"
             ],
             [
              0.3333333333333333,
              "#9c179e"
             ],
             [
              0.4444444444444444,
              "#bd3786"
             ],
             [
              0.5555555555555556,
              "#d8576b"
             ],
             [
              0.6666666666666666,
              "#ed7953"
             ],
             [
              0.7777777777777778,
              "#fb9f3a"
             ],
             [
              0.8888888888888888,
              "#fdca26"
             ],
             [
              1,
              "#f0f921"
             ]
            ],
            "type": "surface"
           }
          ],
          "table": [
           {
            "cells": {
             "fill": {
              "color": "#EBF0F8"
             },
             "line": {
              "color": "white"
             }
            },
            "header": {
             "fill": {
              "color": "#C8D4E3"
             },
             "line": {
              "color": "white"
             }
            },
            "type": "table"
           }
          ]
         },
         "layout": {
          "annotationdefaults": {
           "arrowcolor": "#2a3f5f",
           "arrowhead": 0,
           "arrowwidth": 1
          },
          "autotypenumbers": "strict",
          "coloraxis": {
           "colorbar": {
            "outlinewidth": 0,
            "ticks": ""
           }
          },
          "colorscale": {
           "diverging": [
            [
             0,
             "#8e0152"
            ],
            [
             0.1,
             "#c51b7d"
            ],
            [
             0.2,
             "#de77ae"
            ],
            [
             0.3,
             "#f1b6da"
            ],
            [
             0.4,
             "#fde0ef"
            ],
            [
             0.5,
             "#f7f7f7"
            ],
            [
             0.6,
             "#e6f5d0"
            ],
            [
             0.7,
             "#b8e186"
            ],
            [
             0.8,
             "#7fbc41"
            ],
            [
             0.9,
             "#4d9221"
            ],
            [
             1,
             "#276419"
            ]
           ],
           "sequential": [
            [
             0,
             "#0d0887"
            ],
            [
             0.1111111111111111,
             "#46039f"
            ],
            [
             0.2222222222222222,
             "#7201a8"
            ],
            [
             0.3333333333333333,
             "#9c179e"
            ],
            [
             0.4444444444444444,
             "#bd3786"
            ],
            [
             0.5555555555555556,
             "#d8576b"
            ],
            [
             0.6666666666666666,
             "#ed7953"
            ],
            [
             0.7777777777777778,
             "#fb9f3a"
            ],
            [
             0.8888888888888888,
             "#fdca26"
            ],
            [
             1,
             "#f0f921"
            ]
           ],
           "sequentialminus": [
            [
             0,
             "#0d0887"
            ],
            [
             0.1111111111111111,
             "#46039f"
            ],
            [
             0.2222222222222222,
             "#7201a8"
            ],
            [
             0.3333333333333333,
             "#9c179e"
            ],
            [
             0.4444444444444444,
             "#bd3786"
            ],
            [
             0.5555555555555556,
             "#d8576b"
            ],
            [
             0.6666666666666666,
             "#ed7953"
            ],
            [
             0.7777777777777778,
             "#fb9f3a"
            ],
            [
             0.8888888888888888,
             "#fdca26"
            ],
            [
             1,
             "#f0f921"
            ]
           ]
          },
          "colorway": [
           "#636efa",
           "#EF553B",
           "#00cc96",
           "#ab63fa",
           "#FFA15A",
           "#19d3f3",
           "#FF6692",
           "#B6E880",
           "#FF97FF",
           "#FECB52"
          ],
          "font": {
           "color": "#2a3f5f"
          },
          "geo": {
           "bgcolor": "white",
           "lakecolor": "white",
           "landcolor": "#E5ECF6",
           "showlakes": true,
           "showland": true,
           "subunitcolor": "white"
          },
          "hoverlabel": {
           "align": "left"
          },
          "hovermode": "closest",
          "mapbox": {
           "style": "light"
          },
          "paper_bgcolor": "white",
          "plot_bgcolor": "#E5ECF6",
          "polar": {
           "angularaxis": {
            "gridcolor": "white",
            "linecolor": "white",
            "ticks": ""
           },
           "bgcolor": "#E5ECF6",
           "radialaxis": {
            "gridcolor": "white",
            "linecolor": "white",
            "ticks": ""
           }
          },
          "scene": {
           "xaxis": {
            "backgroundcolor": "#E5ECF6",
            "gridcolor": "white",
            "gridwidth": 2,
            "linecolor": "white",
            "showbackground": true,
            "ticks": "",
            "zerolinecolor": "white"
           },
           "yaxis": {
            "backgroundcolor": "#E5ECF6",
            "gridcolor": "white",
            "gridwidth": 2,
            "linecolor": "white",
            "showbackground": true,
            "ticks": "",
            "zerolinecolor": "white"
           },
           "zaxis": {
            "backgroundcolor": "#E5ECF6",
            "gridcolor": "white",
            "gridwidth": 2,
            "linecolor": "white",
            "showbackground": true,
            "ticks": "",
            "zerolinecolor": "white"
           }
          },
          "shapedefaults": {
           "line": {
            "color": "#2a3f5f"
           }
          },
          "ternary": {
           "aaxis": {
            "gridcolor": "white",
            "linecolor": "white",
            "ticks": ""
           },
           "baxis": {
            "gridcolor": "white",
            "linecolor": "white",
            "ticks": ""
           },
           "bgcolor": "#E5ECF6",
           "caxis": {
            "gridcolor": "white",
            "linecolor": "white",
            "ticks": ""
           }
          },
          "title": {
           "x": 0.05
          },
          "xaxis": {
           "automargin": true,
           "gridcolor": "white",
           "linecolor": "white",
           "ticks": "",
           "title": {
            "standoff": 15
           },
           "zerolinecolor": "white",
           "zerolinewidth": 2
          },
          "yaxis": {
           "automargin": true,
           "gridcolor": "white",
           "linecolor": "white",
           "ticks": "",
           "title": {
            "standoff": 15
           },
           "zerolinecolor": "white",
           "zerolinewidth": 2
          }
         }
        }
       }
      },
      "text/html": [
       "<div>                            <div id=\"c990bc72-2f3c-4f78-ad09-2c7aefe04f44\" class=\"plotly-graph-div\" style=\"height:525px; width:100%;\"></div>            <script type=\"text/javascript\">                require([\"plotly\"], function(Plotly) {                    window.PLOTLYENV=window.PLOTLYENV || {};                                    if (document.getElementById(\"c990bc72-2f3c-4f78-ad09-2c7aefe04f44\")) {                    Plotly.newPlot(                        \"c990bc72-2f3c-4f78-ad09-2c7aefe04f44\",                        [{\"mode\": \"text\", \"text\": [\"\\u4eca\\u5929\\u5929\\u6c14\", \"\\u4e0d\\u9519\", \"\\u633a\", \"\\u98ce\\u548c\\u65e5\\u4e3d\", \"\\u7684\", \"\\u6211\\u4eec\", \"\\u4e0b\\u5348\", \"\\u6ca1\\u6709\", \"\\u8bfe\", \"\\u8fd9\", \"\\u7684\\u786e\", \"\\u633a\\u723d\", \"\\u6211\", \"\\u4e00\\u5927\", \"\\u4e2d\\u5348\", \"\\u65e9\\u65e9\", \"\\u8dd1\", \"\\u53bb\", \"\\u4e0a\", \"\\u81ea\\u4e60\", \"\\u5fc3\\u91cc\", \"\\u7422\\u78e8\", \"\\u7740\", \"\\u5927\\u5b66\", \"\\u751f\\u6d3b\", \"\\u662f\", \"\\u591a\\u4e48\", \"\\u7f8e\\u597d\", \"\\u554a\", \"\\u4e00\\u7728\\u773c\", \"\\u529f\\u592b\", \"\\u5c31\", \"\\u8fdb\", \"\\u4e86\", \"\\u4e3b\\u697c\", \"\\u8981\\u8bf4\", \"\\u4ffa\\u4eec\", \"\\u8fd9\\u560e\\u7629\", \"\\u81ea\\u4e60\\u5ba4\", \"\\u5176\\u5b9e\", \"\\u591a\", \"\\u53ef\\u662f\", \"\\u4f60\", \"\\u684c\\u4e0a\", \"\\u4e66\\u5305\", \"\\u5360\\u5ea7\", \"\\u90a3\", \"\\u96be\", \"\\u627e\", \"\\u8dcb\\u5c71\\u6d89\\u6c34\", \"\\u7ffb\\u5c71\\u8d8a\\u5cad\", \"\\u597d\\u4e0d\\u5bb9\\u6613\", \"\\u6765\\u5230\", \"\\u4e00\\u4e2a\", \"\\u6843\\u6e90\", \"\\u6df1\\u5904\", \"\\u4e00\", \"\\u63a8\\u95e8\", \"\\u8003\", \"\\u771f\\u662f\", \"\\u8c41\\u7136\\u5f00\\u6717\", \"\\u6559\\u5ba4\", \"\\u771f\", \"\\u6ca1\", \"\\u591a\\u5c11\", \"\\u4eba\"], \"type\": \"scatter\", \"x\": [-3.1397511959075928, -58.833351135253906, -16.323528289794922, -62.78110885620117, 25.04559326171875, -23.946386337280273, -31.20526885986328, -7.8099284172058105, 21.521404266357422, -48.509559631347656, -27.1530818939209, 26.643522262573242, 31.20272445678711, 8.354292869567871, -62.006927490234375, 21.548738479614258, -32.016090393066406, -12.665748596191406, 10.350564002990723, -2.009969711303711, 2.5435667037963867, -39.03852081298828, -4.943638324737549, -21.370948791503906, -5.455939769744873, -24.642290115356445, 9.549468040466309, 14.329604148864746, -50.86919021606445, 3.6879794597625732, -28.84839630126953, 35.45866394042969, 5.780707359313965, -44.56136703491211, 38.154422760009766, -38.96632385253906, -25.17719841003418, -2.058683395385742, 8.611313819885254, -33.210777282714844, -51.30893325805664, -26.371559143066406, -0.05254580080509186, -19.3075008392334, 13.196877479553223, -14.555693626403809, 36.06370544433594, 8.430289268493652, 24.25098419189453, 1.2885743379592896, -10.843287467956543, 21.95612907409668, -44.50416564941406, 17.36579704284668, -14.846418380737305, -7.546443939208984, -30.960920333862305, -46.34366989135742, -27.945709228515625, -5.498513221740723, -16.970684051513672, -43.42921829223633, -14.246962547302246, -18.5246639251709, -12.600330352783203, 20.806467056274414], \"y\": [-20.733598709106445, -17.90743064880371, 14.640013694763184, -7.73740816116333, -4.410489082336426, 27.862119674682617, -31.202882766723633, 21.22074317932129, 11.695670127868652, -12.429664611816406, 17.267650604248047, 5.806061267852783, 20.84576988220215, 44.192352294921875, 8.810166358947754, 24.62752342224121, -14.019999504089355, -43.47554016113281, 12.221366882324219, -7.11517858505249, -15.80667781829834, 12.799540519714355, 11.558857917785645, -16.538776397705078, 32.34151840209961, 7.110084533691406, -25.207216262817383, -0.0390559583902359, -2.642946720123291, 3.2098636627197266, 40.993003845214844, -2.382885217666626, -32.99748992919922, 37.604896545410156, 11.477304458618164, -5.9982686042785645, -27.618471145629883, 39.27102279663086, -5.849001884460449, 27.751543045043945, 22.53641128540039, -8.042546272277832, -45.34159851074219, -0.5847893357276917, 20.322153091430664, 7.771456718444824, -14.868804931640625, 30.51944923400879, 38.404666900634766, 17.73448944091797, -12.269495964050293, -36.25871276855469, 6.82197904586792, -14.452156066894531, -22.2187442779541, -32.84320831298828, -1.2862268686294556, -30.875003814697266, -46.24011993408203, 0.7000845670700073, -34.80097961425781, -21.770418167114258, -5.117351531982422, 31.723722457885742, 47.69808578491211, -21.852449417114258]}],                        {\"template\": {\"data\": {\"bar\": [{\"error_x\": {\"color\": \"#2a3f5f\"}, \"error_y\": {\"color\": \"#2a3f5f\"}, \"marker\": {\"line\": {\"color\": \"#E5ECF6\", \"width\": 0.5}}, \"type\": \"bar\"}], \"barpolar\": [{\"marker\": {\"line\": {\"color\": \"#E5ECF6\", \"width\": 0.5}}, \"type\": \"barpolar\"}], \"carpet\": [{\"aaxis\": {\"endlinecolor\": \"#2a3f5f\", \"gridcolor\": \"white\", \"linecolor\": \"white\", \"minorgridcolor\": \"white\", \"startlinecolor\": \"#2a3f5f\"}, \"baxis\": {\"endlinecolor\": \"#2a3f5f\", \"gridcolor\": \"white\", \"linecolor\": \"white\", \"minorgridcolor\": \"white\", \"startlinecolor\": \"#2a3f5f\"}, \"type\": \"carpet\"}], \"choropleth\": [{\"colorbar\": {\"outlinewidth\": 0, \"ticks\": \"\"}, \"type\": \"choropleth\"}], \"contour\": [{\"colorbar\": {\"outlinewidth\": 0, \"ticks\": \"\"}, \"colorscale\": [[0.0, \"#0d0887\"], [0.1111111111111111, \"#46039f\"], [0.2222222222222222, \"#7201a8\"], [0.3333333333333333, \"#9c179e\"], [0.4444444444444444, \"#bd3786\"], [0.5555555555555556, \"#d8576b\"], [0.6666666666666666, \"#ed7953\"], [0.7777777777777778, \"#fb9f3a\"], [0.8888888888888888, \"#fdca26\"], [1.0, \"#f0f921\"]], \"type\": \"contour\"}], \"contourcarpet\": [{\"colorbar\": {\"outlinewidth\": 0, \"ticks\": \"\"}, \"type\": \"contourcarpet\"}], \"heatmap\": [{\"colorbar\": {\"outlinewidth\": 0, \"ticks\": \"\"}, \"colorscale\": [[0.0, \"#0d0887\"], [0.1111111111111111, \"#46039f\"], [0.2222222222222222, \"#7201a8\"], [0.3333333333333333, \"#9c179e\"], [0.4444444444444444, \"#bd3786\"], [0.5555555555555556, \"#d8576b\"], [0.6666666666666666, \"#ed7953\"], [0.7777777777777778, \"#fb9f3a\"], [0.8888888888888888, \"#fdca26\"], [1.0, \"#f0f921\"]], \"type\": \"heatmap\"}], \"heatmapgl\": [{\"colorbar\": {\"outlinewidth\": 0, \"ticks\": \"\"}, \"colorscale\": [[0.0, \"#0d0887\"], [0.1111111111111111, \"#46039f\"], [0.2222222222222222, \"#7201a8\"], [0.3333333333333333, \"#9c179e\"], [0.4444444444444444, \"#bd3786\"], [0.5555555555555556, \"#d8576b\"], [0.6666666666666666, \"#ed7953\"], [0.7777777777777778, \"#fb9f3a\"], [0.8888888888888888, \"#fdca26\"], [1.0, \"#f0f921\"]], \"type\": \"heatmapgl\"}], \"histogram\": [{\"marker\": {\"colorbar\": {\"outlinewidth\": 0, \"ticks\": \"\"}}, \"type\": \"histogram\"}], \"histogram2d\": [{\"colorbar\": {\"outlinewidth\": 0, \"ticks\": \"\"}, \"colorscale\": [[0.0, \"#0d0887\"], [0.1111111111111111, \"#46039f\"], [0.2222222222222222, \"#7201a8\"], [0.3333333333333333, \"#9c179e\"], [0.4444444444444444, \"#bd3786\"], [0.5555555555555556, \"#d8576b\"], [0.6666666666666666, \"#ed7953\"], [0.7777777777777778, \"#fb9f3a\"], [0.8888888888888888, \"#fdca26\"], [1.0, \"#f0f921\"]], \"type\": \"histogram2d\"}], \"histogram2dcontour\": [{\"colorbar\": {\"outlinewidth\": 0, \"ticks\": \"\"}, \"colorscale\": [[0.0, \"#0d0887\"], [0.1111111111111111, \"#46039f\"], [0.2222222222222222, \"#7201a8\"], [0.3333333333333333, \"#9c179e\"], [0.4444444444444444, \"#bd3786\"], [0.5555555555555556, \"#d8576b\"], [0.6666666666666666, \"#ed7953\"], [0.7777777777777778, \"#fb9f3a\"], [0.8888888888888888, \"#fdca26\"], [1.0, \"#f0f921\"]], \"type\": \"histogram2dcontour\"}], \"mesh3d\": [{\"colorbar\": {\"outlinewidth\": 0, \"ticks\": \"\"}, \"type\": \"mesh3d\"}], \"parcoords\": [{\"line\": {\"colorbar\": {\"outlinewidth\": 0, \"ticks\": \"\"}}, \"type\": \"parcoords\"}], \"pie\": [{\"automargin\": true, \"type\": \"pie\"}], \"scatter\": [{\"marker\": {\"colorbar\": {\"outlinewidth\": 0, \"ticks\": \"\"}}, \"type\": \"scatter\"}], \"scatter3d\": [{\"line\": {\"colorbar\": {\"outlinewidth\": 0, \"ticks\": \"\"}}, \"marker\": {\"colorbar\": {\"outlinewidth\": 0, \"ticks\": \"\"}}, \"type\": \"scatter3d\"}], \"scattercarpet\": [{\"marker\": {\"colorbar\": {\"outlinewidth\": 0, \"ticks\": \"\"}}, \"type\": \"scattercarpet\"}], \"scattergeo\": [{\"marker\": {\"colorbar\": {\"outlinewidth\": 0, \"ticks\": \"\"}}, \"type\": \"scattergeo\"}], \"scattergl\": [{\"marker\": {\"colorbar\": {\"outlinewidth\": 0, \"ticks\": \"\"}}, \"type\": \"scattergl\"}], \"scattermapbox\": [{\"marker\": {\"colorbar\": {\"outlinewidth\": 0, \"ticks\": \"\"}}, \"type\": \"scattermapbox\"}], \"scatterpolar\": [{\"marker\": {\"colorbar\": {\"outlinewidth\": 0, \"ticks\": \"\"}}, \"type\": \"scatterpolar\"}], \"scatterpolargl\": [{\"marker\": {\"colorbar\": {\"outlinewidth\": 0, \"ticks\": \"\"}}, \"type\": \"scatterpolargl\"}], \"scatterternary\": [{\"marker\": {\"colorbar\": {\"outlinewidth\": 0, \"ticks\": \"\"}}, \"type\": \"scatterternary\"}], \"surface\": [{\"colorbar\": {\"outlinewidth\": 0, \"ticks\": \"\"}, \"colorscale\": [[0.0, \"#0d0887\"], [0.1111111111111111, \"#46039f\"], [0.2222222222222222, \"#7201a8\"], [0.3333333333333333, \"#9c179e\"], [0.4444444444444444, \"#bd3786\"], [0.5555555555555556, \"#d8576b\"], [0.6666666666666666, \"#ed7953\"], [0.7777777777777778, \"#fb9f3a\"], [0.8888888888888888, \"#fdca26\"], [1.0, \"#f0f921\"]], \"type\": \"surface\"}], \"table\": [{\"cells\": {\"fill\": {\"color\": \"#EBF0F8\"}, \"line\": {\"color\": \"white\"}}, \"header\": {\"fill\": {\"color\": \"#C8D4E3\"}, \"line\": {\"color\": \"white\"}}, \"type\": \"table\"}]}, \"layout\": {\"annotationdefaults\": {\"arrowcolor\": \"#2a3f5f\", \"arrowhead\": 0, \"arrowwidth\": 1}, \"autotypenumbers\": \"strict\", \"coloraxis\": {\"colorbar\": {\"outlinewidth\": 0, \"ticks\": \"\"}}, \"colorscale\": {\"diverging\": [[0, \"#8e0152\"], [0.1, \"#c51b7d\"], [0.2, \"#de77ae\"], [0.3, \"#f1b6da\"], [0.4, \"#fde0ef\"], [0.5, \"#f7f7f7\"], [0.6, \"#e6f5d0\"], [0.7, \"#b8e186\"], [0.8, \"#7fbc41\"], [0.9, \"#4d9221\"], [1, \"#276419\"]], \"sequential\": [[0.0, \"#0d0887\"], [0.1111111111111111, \"#46039f\"], [0.2222222222222222, \"#7201a8\"], [0.3333333333333333, \"#9c179e\"], [0.4444444444444444, \"#bd3786\"], [0.5555555555555556, \"#d8576b\"], [0.6666666666666666, \"#ed7953\"], [0.7777777777777778, \"#fb9f3a\"], [0.8888888888888888, \"#fdca26\"], [1.0, \"#f0f921\"]], \"sequentialminus\": [[0.0, \"#0d0887\"], [0.1111111111111111, \"#46039f\"], [0.2222222222222222, \"#7201a8\"], [0.3333333333333333, \"#9c179e\"], [0.4444444444444444, \"#bd3786\"], [0.5555555555555556, \"#d8576b\"], [0.6666666666666666, \"#ed7953\"], [0.7777777777777778, \"#fb9f3a\"], [0.8888888888888888, \"#fdca26\"], [1.0, \"#f0f921\"]]}, \"colorway\": [\"#636efa\", \"#EF553B\", \"#00cc96\", \"#ab63fa\", \"#FFA15A\", \"#19d3f3\", \"#FF6692\", \"#B6E880\", \"#FF97FF\", \"#FECB52\"], \"font\": {\"color\": \"#2a3f5f\"}, \"geo\": {\"bgcolor\": \"white\", \"lakecolor\": \"white\", \"landcolor\": \"#E5ECF6\", \"showlakes\": true, \"showland\": true, \"subunitcolor\": \"white\"}, \"hoverlabel\": {\"align\": \"left\"}, \"hovermode\": \"closest\", \"mapbox\": {\"style\": \"light\"}, \"paper_bgcolor\": \"white\", \"plot_bgcolor\": \"#E5ECF6\", \"polar\": {\"angularaxis\": {\"gridcolor\": \"white\", \"linecolor\": \"white\", \"ticks\": \"\"}, \"bgcolor\": \"#E5ECF6\", \"radialaxis\": {\"gridcolor\": \"white\", \"linecolor\": \"white\", \"ticks\": \"\"}}, \"scene\": {\"xaxis\": {\"backgroundcolor\": \"#E5ECF6\", \"gridcolor\": \"white\", \"gridwidth\": 2, \"linecolor\": \"white\", \"showbackground\": true, \"ticks\": \"\", \"zerolinecolor\": \"white\"}, \"yaxis\": {\"backgroundcolor\": \"#E5ECF6\", \"gridcolor\": \"white\", \"gridwidth\": 2, \"linecolor\": \"white\", \"showbackground\": true, \"ticks\": \"\", \"zerolinecolor\": \"white\"}, \"zaxis\": {\"backgroundcolor\": \"#E5ECF6\", \"gridcolor\": \"white\", \"gridwidth\": 2, \"linecolor\": \"white\", \"showbackground\": true, \"ticks\": \"\", \"zerolinecolor\": \"white\"}}, \"shapedefaults\": {\"line\": {\"color\": \"#2a3f5f\"}}, \"ternary\": {\"aaxis\": {\"gridcolor\": \"white\", \"linecolor\": \"white\", \"ticks\": \"\"}, \"baxis\": {\"gridcolor\": \"white\", \"linecolor\": \"white\", \"ticks\": \"\"}, \"bgcolor\": \"#E5ECF6\", \"caxis\": {\"gridcolor\": \"white\", \"linecolor\": \"white\", \"ticks\": \"\"}}, \"title\": {\"x\": 0.05}, \"xaxis\": {\"automargin\": true, \"gridcolor\": \"white\", \"linecolor\": \"white\", \"ticks\": \"\", \"title\": {\"standoff\": 15}, \"zerolinecolor\": \"white\", \"zerolinewidth\": 2}, \"yaxis\": {\"automargin\": true, \"gridcolor\": \"white\", \"linecolor\": \"white\", \"ticks\": \"\", \"title\": {\"standoff\": 15}, \"zerolinecolor\": \"white\", \"zerolinewidth\": 2}}}},                        {\"responsive\": true}                    ).then(function(){\n",
       "                            \n",
       "var gd = document.getElementById('c990bc72-2f3c-4f78-ad09-2c7aefe04f44');\n",
       "var x = new MutationObserver(function (mutations, observer) {{\n",
       "        var display = window.getComputedStyle(gd).display;\n",
       "        if (!display || display === 'none') {{\n",
       "            console.log([gd, 'removed!']);\n",
       "            Plotly.purge(gd);\n",
       "            observer.disconnect();\n",
       "        }}\n",
       "}});\n",
       "\n",
       "// Listen for the removal of the full notebook cells\n",
       "var notebookContainer = gd.closest('#notebook-container');\n",
       "if (notebookContainer) {{\n",
       "    x.observe(notebookContainer, {childList: true});\n",
       "}}\n",
       "\n",
       "// Listen for the clearing of the current output cell\n",
       "var outputEl = gd.closest('.output');\n",
       "if (outputEl) {{\n",
       "    x.observe(outputEl, {childList: true});\n",
       "}}\n",
       "\n",
       "                        })                };                });            </script>        </div>"
      ]
     },
     "metadata": {},
     "output_type": "display_data"
    }
   ],
   "source": [
    "%matplotlib inline\n",
    "from sklearn.decomposition import IncrementalPCA    # inital reduction\n",
    "from sklearn.manifold import TSNE                   # final reduction\n",
    "import numpy as np                                  # array handling\n",
    "\n",
    "\n",
    "def reduce_dimensions(model):\n",
    "    num_dimensions = 2  # final num dimensions (2D, 3D, etc)\n",
    "\n",
    "    vectors = [] # positions in vector space\n",
    "    labels = [] # keep track of words to label our data again later\n",
    "    for word in model.wv.vocab:\n",
    "        vectors.append(model.wv[word])\n",
    "        labels.append(word)\n",
    "\n",
    "    # convert both lists into numpy vectors for reduction\n",
    "    vectors = np.asarray(vectors)\n",
    "    labels = np.asarray(labels)\n",
    "\n",
    "    # reduce using t-SNE\n",
    "    vectors = np.asarray(vectors)\n",
    "    tsne = TSNE(n_components=num_dimensions, random_state=0)\n",
    "    vectors = tsne.fit_transform(vectors)\n",
    "\n",
    "    x_vals = [v[0] for v in vectors]\n",
    "    y_vals = [v[1] for v in vectors]\n",
    "    return x_vals, y_vals, labels\n",
    "\n",
    "\n",
    "x_vals, y_vals, labels = reduce_dimensions(my_model)\n",
    "\n",
    "def plot_with_plotly(x_vals, y_vals, labels, plot_in_notebook=True):\n",
    "    from plotly.offline import init_notebook_mode, iplot, plot\n",
    "    import plotly.graph_objs as go\n",
    "\n",
    "    trace = go.Scatter(x=x_vals, y=y_vals, mode='text', text=labels)\n",
    "    data = [trace]\n",
    "\n",
    "    if plot_in_notebook:\n",
    "        init_notebook_mode(connected=True)\n",
    "        iplot(data, filename='word-embedding-plot')\n",
    "    else:\n",
    "        plot(data, filename='word-embedding-plot.html')\n",
    "\n",
    "\n",
    "def plot_with_matplotlib(x_vals, y_vals, labels):\n",
    "    import matplotlib.pyplot as plt\n",
    "    import random\n",
    "\n",
    "    random.seed(0)\n",
    "\n",
    "    plt.figure(figsize=(12, 12))\n",
    "    plt.scatter(x_vals, y_vals)\n",
    "\n",
    "    #\n",
    "    # Label randomly subsampled 25 data points\n",
    "    #\n",
    "    indices = list(range(len(labels)))\n",
    "    selected_indices = random.sample(indices, 25)\n",
    "    for i in selected_indices:\n",
    "        plt.annotate(labels[i], (x_vals[i], y_vals[i]))\n",
    "\n",
    "try:\n",
    "    get_ipython()\n",
    "except Exception:\n",
    "    plot_function = plot_with_matplotlib\n",
    "else:\n",
    "    plot_function = plot_with_plotly\n",
    "\n",
    "plot_function(x_vals, y_vals, labels)"
   ]
  },
  {
   "cell_type": "code",
   "execution_count": 13,
   "metadata": {},
   "outputs": [
    {
     "data": {
      "text/plain": [
       "{'今天天气': <gensim.models.keyedvectors.Vocab at 0x1a5e592b8e0>,\n",
       " '不错': <gensim.models.keyedvectors.Vocab at 0x1a5e592b730>,\n",
       " '挺': <gensim.models.keyedvectors.Vocab at 0x1a5ecde2c70>,\n",
       " '风和日丽': <gensim.models.keyedvectors.Vocab at 0x1a5ecde2ca0>,\n",
       " '的': <gensim.models.keyedvectors.Vocab at 0x1a5ecde2f10>,\n",
       " '我们': <gensim.models.keyedvectors.Vocab at 0x1a5ecde2df0>,\n",
       " '下午': <gensim.models.keyedvectors.Vocab at 0x1a5e564c160>,\n",
       " '没有': <gensim.models.keyedvectors.Vocab at 0x1a5e5646a60>,\n",
       " '课': <gensim.models.keyedvectors.Vocab at 0x1a5e5646760>,\n",
       " '这': <gensim.models.keyedvectors.Vocab at 0x1a5ecbc9100>,\n",
       " '的确': <gensim.models.keyedvectors.Vocab at 0x1a5ecbc90d0>,\n",
       " '挺爽': <gensim.models.keyedvectors.Vocab at 0x1a5e5893fd0>,\n",
       " '我': <gensim.models.keyedvectors.Vocab at 0x1a5e9dd8c70>,\n",
       " '一大': <gensim.models.keyedvectors.Vocab at 0x1a5ece0ef70>,\n",
       " '中午': <gensim.models.keyedvectors.Vocab at 0x1a5ece05e50>,\n",
       " '早早': <gensim.models.keyedvectors.Vocab at 0x1a5f0f30b20>,\n",
       " '跑': <gensim.models.keyedvectors.Vocab at 0x1a5f0f30ac0>,\n",
       " '去': <gensim.models.keyedvectors.Vocab at 0x1a5f0f30a60>,\n",
       " '上': <gensim.models.keyedvectors.Vocab at 0x1a5f0f30a00>,\n",
       " '自习': <gensim.models.keyedvectors.Vocab at 0x1a5f0f309a0>,\n",
       " '心里': <gensim.models.keyedvectors.Vocab at 0x1a5f0f30940>,\n",
       " '琢磨': <gensim.models.keyedvectors.Vocab at 0x1a5f0f308e0>,\n",
       " '着': <gensim.models.keyedvectors.Vocab at 0x1a5f0f30880>,\n",
       " '大学': <gensim.models.keyedvectors.Vocab at 0x1a5f0f30820>,\n",
       " '生活': <gensim.models.keyedvectors.Vocab at 0x1a5f0f307c0>,\n",
       " '是': <gensim.models.keyedvectors.Vocab at 0x1a5f0f30760>,\n",
       " '多么': <gensim.models.keyedvectors.Vocab at 0x1a5f0f30700>,\n",
       " '美好': <gensim.models.keyedvectors.Vocab at 0x1a5f0f306a0>,\n",
       " '啊': <gensim.models.keyedvectors.Vocab at 0x1a5f0f30640>,\n",
       " '一眨眼': <gensim.models.keyedvectors.Vocab at 0x1a5f0f305e0>,\n",
       " '功夫': <gensim.models.keyedvectors.Vocab at 0x1a5f0f30580>,\n",
       " '就': <gensim.models.keyedvectors.Vocab at 0x1a5f0f30520>,\n",
       " '进': <gensim.models.keyedvectors.Vocab at 0x1a5f0f304c0>,\n",
       " '了': <gensim.models.keyedvectors.Vocab at 0x1a5f0f30460>,\n",
       " '主楼': <gensim.models.keyedvectors.Vocab at 0x1a5f0f30130>,\n",
       " '要说': <gensim.models.keyedvectors.Vocab at 0x1a5f0f300d0>,\n",
       " '俺们': <gensim.models.keyedvectors.Vocab at 0x1a5f0f30220>,\n",
       " '这嘎瘩': <gensim.models.keyedvectors.Vocab at 0x1a5f0f30370>,\n",
       " '自习室': <gensim.models.keyedvectors.Vocab at 0x1a5f0f302b0>,\n",
       " '其实': <gensim.models.keyedvectors.Vocab at 0x1a5f0f30100>,\n",
       " '多': <gensim.models.keyedvectors.Vocab at 0x1a5f0f30400>,\n",
       " '可是': <gensim.models.keyedvectors.Vocab at 0x1a5f0f30040>,\n",
       " '你': <gensim.models.keyedvectors.Vocab at 0x1a5f0f301c0>,\n",
       " '桌上': <gensim.models.keyedvectors.Vocab at 0x1a5f0f30250>,\n",
       " '书包': <gensim.models.keyedvectors.Vocab at 0x1a5f0f30c40>,\n",
       " '占座': <gensim.models.keyedvectors.Vocab at 0x1a5f0f30ca0>,\n",
       " '那': <gensim.models.keyedvectors.Vocab at 0x1a5f0f30c10>,\n",
       " '难': <gensim.models.keyedvectors.Vocab at 0x1a5f0f30b80>,\n",
       " '找': <gensim.models.keyedvectors.Vocab at 0x1a5f0f30cd0>,\n",
       " '跋山涉水': <gensim.models.keyedvectors.Vocab at 0x1a5f0f30d30>,\n",
       " '翻山越岭': <gensim.models.keyedvectors.Vocab at 0x1a5f0f30d90>,\n",
       " '好不容易': <gensim.models.keyedvectors.Vocab at 0x1a5f0f30df0>,\n",
       " '来到': <gensim.models.keyedvectors.Vocab at 0x1a5f0f30e50>,\n",
       " '一个': <gensim.models.keyedvectors.Vocab at 0x1a5f0f30eb0>,\n",
       " '桃源': <gensim.models.keyedvectors.Vocab at 0x1a5f0f30f10>,\n",
       " '深处': <gensim.models.keyedvectors.Vocab at 0x1a5f0f30f70>,\n",
       " '一': <gensim.models.keyedvectors.Vocab at 0x1a5f0f30fd0>,\n",
       " '推门': <gensim.models.keyedvectors.Vocab at 0x1a5f0f32070>,\n",
       " '考': <gensim.models.keyedvectors.Vocab at 0x1a5f0f320d0>,\n",
       " '真是': <gensim.models.keyedvectors.Vocab at 0x1a5f0f32130>,\n",
       " '豁然开朗': <gensim.models.keyedvectors.Vocab at 0x1a5f0f32190>,\n",
       " '教室': <gensim.models.keyedvectors.Vocab at 0x1a5f0f321f0>,\n",
       " '真': <gensim.models.keyedvectors.Vocab at 0x1a5f0f32250>,\n",
       " '没': <gensim.models.keyedvectors.Vocab at 0x1a5f0f322b0>,\n",
       " '多少': <gensim.models.keyedvectors.Vocab at 0x1a5f0f32310>,\n",
       " '人': <gensim.models.keyedvectors.Vocab at 0x1a5f0f32370>}"
      ]
     },
     "execution_count": 13,
     "metadata": {},
     "output_type": "execute_result"
    }
   ],
   "source": [
    "my_model.wv.vocab"
   ]
  },
  {
   "cell_type": "code",
   "execution_count": 16,
   "metadata": {},
   "outputs": [
    {
     "data": {
      "text/plain": [
       "<gensim.models.keyedvectors.Word2VecKeyedVectors at 0x1a5e592b370>"
      ]
     },
     "execution_count": 16,
     "metadata": {},
     "output_type": "execute_result"
    }
   ],
   "source": [
    "my_model.wv"
   ]
  },
  {
   "cell_type": "code",
   "execution_count": 10,
   "metadata": {},
   "outputs": [
    {
     "data": {
      "text/plain": [
       "[<matplotlib.lines.Line2D at 0x1a5eb9efb50>]"
      ]
     },
     "execution_count": 10,
     "metadata": {},
     "output_type": "execute_result"
    },
    {
     "data": {
      "image/png": "[encoded data removed]",
      "text/plain": [
       "<Figure size 432x288 with 1 Axes>"
      ]
     },
     "metadata": {
      "needs_background": "light"
     },
     "output_type": "display_data"
    }
   ],
   "source": [
    "%matplotlib inline\n",
    "import numpy as np\n",
    "import matplotlib.pyplot as plt\n",
    "plt.plot(np.arange(10))"
   ]
  },
  {
   "cell_type": "code",
   "execution_count": 11,
   "metadata": {},
   "outputs": [
    {
     "name": "stdout",
     "output_type": "stream",
     "text": [
      "Looking in indexes: https://pypi.tuna.tsinghua.edu.cn/simple\n",
      "Requirement already satisfied: nbformat in c:\\programdata\\anaconda3\\envs\\tf2\\lib\\site-packages (5.1.3)\n",
      "Requirement already satisfied: traitlets>=4.1 in c:\\programdata\\anaconda3\\envs\\tf2\\lib\\site-packages (from nbformat) (5.0.5)\n",
      "Requirement already satisfied: ipython-genutils in c:\\programdata\\anaconda3\\envs\\tf2\\lib\\site-packages (from nbformat) (0.2.0)\n",
      "Requirement already satisfied: jupyter-core in c:\\programdata\\anaconda3\\envs\\tf2\\lib\\site-packages (from nbformat) (4.7.1)\n",
      "Requirement already satisfied: jsonschema!=2.5.0,>=2.4 in c:\\programdata\\anaconda3\\envs\\tf2\\lib\\site-packages (from nbformat) (3.2.0)\n",
      "Requirement already satisfied: setuptools in c:\\programdata\\anaconda3\\envs\\tf2\\lib\\site-packages (from jsonschema!=2.5.0,>=2.4->nbformat) (52.0.0.post20210125)\n",
      "Requirement already satisfied: attrs>=17.4.0 in c:\\programdata\\anaconda3\\envs\\tf2\\lib\\site-packages (from jsonschema!=2.5.0,>=2.4->nbformat) (20.3.0)\n",
      "Requirement already satisfied: six>=1.11.0 in c:\\programdata\\anaconda3\\envs\\tf2\\lib\\site-packages (from jsonschema!=2.5.0,>=2.4->nbformat) (1.15.0)\n",
      "Requirement already satisfied: pyrsistent>=0.14.0 in c:\\programdata\\anaconda3\\envs\\tf2\\lib\\site-packages (from jsonschema!=2.5.0,>=2.4->nbformat) (0.17.3)\n",
      "Requirement already satisfied: pywin32>=1.0 in c:\\programdata\\anaconda3\\envs\\tf2\\lib\\site-packages (from jupyter-core->nbformat) (228)\n"
     ]
    }
   ],
   "source": [
    "!pip install --upgrade nbformat"
   ]
  },
  {
   "cell_type": "code",
   "execution_count": null,
   "metadata": {},
   "outputs": [],
   "source": []
  }
 ],
 "metadata": {
  "kernelspec": {
   "display_name": "Python [conda env:tf2]",
   "language": "python",
   "name": "conda-env-tf2-py"
  },
  "language_info": {
   "codemirror_mode": {
    "name": "ipython",
    "version": 3
   },
   "file_extension": ".py",
   "mimetype": "text/x-python",
   "name": "python",
   "nbconvert_exporter": "python",
   "pygments_lexer": "ipython3",
   "version": "3.9.2"
  }
 },
 "nbformat": 4,
 "nbformat_minor": 4
}
