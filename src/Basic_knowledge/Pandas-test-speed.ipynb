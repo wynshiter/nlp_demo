{
 "cells": [
  {
   "cell_type": "markdown",
   "metadata": {},
   "source": [
    "# pandas中DataFrame单个数据提取效率与修改效率\n",
    "\n",
    "参考文献：\n",
    "https://blog.csdn.net/wxxwxx11/article/details/105885562\n",
    "    "
   ]
  },
  {
   "cell_type": "code",
   "execution_count": null,
   "metadata": {},
   "outputs": [],
   "source": []
  },
  {
   "cell_type": "code",
   "execution_count": 1,
   "metadata": {},
   "outputs": [],
   "source": [
    "import numpy as np\n",
    "import pandas as pd\n",
    "\n",
    "from copy import deepcopy\n",
    "from time import time\n",
    "\n",
    "np.random.seed(20000)\n",
    "I = 900\n",
    "df = pd.DataFrame(np.random.standard_normal((I, I)),\n",
    "\t\t\t\t  columns=['c'+str(_) for _ in range(I)],\n",
    "                  index=['i'+str(_) for _ in range(I)])\n"
   ]
  },
  {
   "cell_type": "code",
   "execution_count": 2,
   "metadata": {},
   "outputs": [],
   "source": [
    "columns_num = np.floor(np.random.uniform(0, 1, I) * I).astype(int)\n",
    "index_num = np.floor(np.random.uniform(0, 1, I) * I).astype(int)\n",
    "\n",
    "columns_str = ['c'+str(_) for _ in columns_num]\n",
    "index_str = ['i'+str(_) for _ in index_num]\n"
   ]
  },
  {
   "cell_type": "markdown",
   "metadata": {},
   "source": [
    "## 读取比较省时的两种方法\n",
    "\n",
    "1. 先columns列名后在values中取行坐标\n",
    "2. 先取二维数组来再定位\n",
    "\n",
    "\n"
   ]
  },
  {
   "cell_type": "code",
   "execution_count": 3,
   "metadata": {},
   "outputs": [
    {
     "name": "stdout",
     "output_type": "stream",
     "text": [
      "3.003784656524658\n"
     ]
    }
   ],
   "source": [
    "t0 = time()\n",
    "for m in columns_str:\n",
    "    for n in index_num:\n",
    "        c = df[m].values[n]\n",
    "print(time()-t0)\n",
    "\n"
   ]
  },
  {
   "cell_type": "code",
   "execution_count": 4,
   "metadata": {},
   "outputs": [
    {
     "name": "stdout",
     "output_type": "stream",
     "text": [
      "0.5721554756164551\n"
     ]
    }
   ],
   "source": [
    "t0 = time()\n",
    "b = df.values\n",
    "for m in columns_num:\n",
    "    for n in index_num:\n",
    "        c = b[n][m]\n",
    "print(time()-t0)\n",
    "\n",
    "\n"
   ]
  },
  {
   "cell_type": "code",
   "execution_count": 5,
   "metadata": {},
   "outputs": [
    {
     "name": "stdout",
     "output_type": "stream",
     "text": [
      "5.127807855606079\n"
     ]
    }
   ],
   "source": [
    "# 传统方法\n",
    "\n",
    "t0 = time()\n",
    "for m in columns_str:\n",
    "    for n in index_str:\n",
    "        c = df[m][n]\n",
    "print(time()-t0)\n",
    "\n",
    "\n"
   ]
  },
  {
   "cell_type": "markdown",
   "metadata": {},
   "source": [
    "# 修改比较省时的两种方法\n",
    "\n",
    "1. 取二维数组来再定位\n",
    "2. 先columns列名后在values中取行坐标"
   ]
  },
  {
   "cell_type": "code",
   "execution_count": 6,
   "metadata": {},
   "outputs": [
    {
     "name": "stdout",
     "output_type": "stream",
     "text": [
      "0.5822360515594482\n"
     ]
    }
   ],
   "source": [
    "df_backup = deepcopy(df)\n",
    "t0 = time()\n",
    "b = df.values\n",
    "for m in columns_num:\n",
    "    for n in index_num:\n",
    "        c = b[n][m]\n",
    "print(time()-t0)\n",
    "\n",
    "\n"
   ]
  },
  {
   "cell_type": "code",
   "execution_count": 7,
   "metadata": {},
   "outputs": [
    {
     "name": "stdout",
     "output_type": "stream",
     "text": [
      "2.8330254554748535\n"
     ]
    }
   ],
   "source": [
    "df_backup = deepcopy(df)\n",
    "t0 = time()\n",
    "for m in columns_str:\n",
    "    for n in index_num:\n",
    "        df_backup[m].values[n] = 0.0\n",
    "print(time()-t0)\n",
    "\n",
    "\n"
   ]
  },
  {
   "cell_type": "code",
   "execution_count": 8,
   "metadata": {},
   "outputs": [
    {
     "name": "stdout",
     "output_type": "stream",
     "text": [
      "4.724409341812134\n"
     ]
    }
   ],
   "source": [
    "df_backup = deepcopy(df)\n",
    "t0 = time()\n",
    "for m in columns_num:\n",
    "    for n in index_num:\n",
    "        df.values[n][m] = 0.0\n",
    "print(time()-t0)\n",
    "\n",
    "\n"
   ]
  },
  {
   "cell_type": "code",
   "execution_count": null,
   "metadata": {},
   "outputs": [],
   "source": []
  }
 ],
 "metadata": {
  "kernelspec": {
   "display_name": "Python [conda env:NLP_DEMO]",
   "language": "python",
   "name": "conda-env-NLP_DEMO-py"
  },
  "language_info": {
   "codemirror_mode": {
    "name": "ipython",
    "version": 3
   },
   "file_extension": ".py",
   "mimetype": "text/x-python",
   "name": "python",
   "nbconvert_exporter": "python",
   "pygments_lexer": "ipython3",
   "version": "3.6.8"
  },
  "toc": {
   "base_numbering": 1,
   "nav_menu": {},
   "number_sections": true,
   "sideBar": true,
   "skip_h1_title": false,
   "title_cell": "Table of Contents",
   "title_sidebar": "Contents",
   "toc_cell": false,
   "toc_position": {},
   "toc_section_display": true,
   "toc_window_display": false
  }
 },
 "nbformat": 4,
 "nbformat_minor": 4
}
