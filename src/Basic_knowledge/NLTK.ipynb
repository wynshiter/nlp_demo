{
 "cells": [
  {
   "cell_type": "code",
   "execution_count": 6,
   "metadata": {},
   "outputs": [],
   "source": [
    "from nltk.corpus import sinica_treebank\n",
    "import nltk"
   ]
  },
  {
   "cell_type": "code",
   "execution_count": 7,
   "metadata": {},
   "outputs": [],
   "source": [
    "import nltk\n",
    "#nltk.download('sinica_treebank')"
   ]
  },
  {
   "cell_type": "code",
   "execution_count": 8,
   "metadata": {},
   "outputs": [],
   "source": [
    "sinica_treebank.parsed_sents()[5].draw()"
   ]
  },
  {
   "cell_type": "code",
   "execution_count": null,
   "metadata": {},
   "outputs": [],
   "source": []
  },
  {
   "cell_type": "code",
   "execution_count": 9,
   "metadata": {},
   "outputs": [
    {
     "name": "stdout",
     "output_type": "stream",
     "text": [
      "Tokenize: ['to', 'be', 'or', 'not', 'to', 'be', ',', 'that', \"'s\", 'a', 'question']\n",
      "Part of Speech: [('to', 'TO'), ('be', 'VB'), ('or', 'CC'), ('not', 'RB'), ('to', 'TO'), ('be', 'VB'), (',', ','), ('that', 'DT'), (\"'s\", 'VBZ'), ('a', 'DT'), ('question', 'NN')]\n",
      "Named Entities: [('to', 'O'), ('be', 'O'), ('or', 'O'), ('not', 'O'), ('to', 'O'), ('be', 'O'), (',', 'O'), ('that', 'O'), (\"'s\", 'O'), ('a', 'O'), ('question', 'O')]\n",
      "Constituency Parsing: (ROOT\n",
      "  (S\n",
      "    (S\n",
      "      (VP\n",
      "        (VP (TO to)\n",
      "          (VP (VB be)))\n",
      "        (CC or)\n",
      "        (RB not)\n",
      "        (VP (TO to)\n",
      "          (VP (VB be)))))\n",
      "    (, ,)\n",
      "    (NP (DT that))\n",
      "    (VP (VBZ 's)\n",
      "      (NP (DT a) (NN question)))))\n",
      "Dependency Parsing: [('ROOT', 0, 11), ('mark', 11, 1), ('cop', 11, 2), ('cc', 6, 3), ('advmod', 6, 4), ('mark', 6, 5), ('conj', 2, 6), ('punct', 11, 7), ('nsubj', 11, 8), ('cop', 11, 9), ('det', 11, 10)]\n"
     ]
    }
   ],
   "source": [
    "from stanfordcorenlp import StanfordCoreNLP\n",
    "\n",
    "nlp = StanfordCoreNLP(r'D:\\code\\python\\csdn_nlp\\stanford-corenlp-latest\\stanford-corenlp-4.0.0')\n",
    "\n",
    "sentence ='''to be or not to be,that's a question'''\n",
    "\n",
    "print ('Tokenize:', nlp.word_tokenize(sentence))\n",
    "\n",
    "print ('Part of Speech:', nlp.pos_tag(sentence))\n",
    "\n",
    "print ('Named Entities:', nlp.ner(sentence))\n",
    "\n",
    "print ('Constituency Parsing:', nlp.parse(sentence))#语法树\n",
    "\n",
    "print ('Dependency Parsing:', nlp.dependency_parse(sentence))#依存句法\n",
    "\n",
    "nlp.close()\n"
   ]
  },
  {
   "cell_type": "code",
   "execution_count": null,
   "metadata": {},
   "outputs": [
    {
     "name": "stdout",
     "output_type": "stream",
     "text": [
      "Tokenize: ['今天', '天气', '不错', ',', '挺', '风和日丽', '的', ',', '我们', '下午', '没有', '课', '。']\n",
      "Part of Speech: [('今天', 'NT'), ('天气', 'NN'), ('不错', 'VA'), (',', 'PU'), ('挺', 'AD'), ('风和日丽', 'VA'), ('的', 'SP'), (',', 'PU'), ('我们', 'PN'), ('下午', 'NT'), ('没有', 'VE'), ('课', 'NN'), ('。', 'PU')]\n",
      "Named Entities: [('今天', 'DATE'), ('天气', 'O'), ('不错', 'O'), (',', 'O'), ('挺', 'O'), ('风和日丽', 'O'), ('的', 'O'), (',', 'O'), ('我们', 'O'), ('下午', 'TIME'), ('没有', 'O'), ('课', 'O'), ('。', 'O')]\n"
     ]
    }
   ],
   "source": [
    "from stanfordcorenlp import StanfordCoreNLP\n",
    "from nltk.tree import Tree\n",
    "\n",
    "nlp = StanfordCoreNLP(r'D:\\code\\python\\csdn_nlp\\stanford-corenlp-latest\\stanford-corenlp-4.0.0',lang='zh')\n",
    "\n",
    "\n",
    "sentence ='今天天气不错,挺风和日丽的,我们下午没有课。'\n",
    "\n",
    "print ('Tokenize:', nlp.word_tokenize(sentence))\n",
    "print ('Part of Speech:', nlp.pos_tag(sentence))\n",
    "print ('Named Entities:', nlp.ner(sentence))\n",
    "print ('Constituency Parsing:', nlp.parse(sentence))#语法树\n",
    "print ('Dependency Parsing:', nlp.dependency_parse(sentence))#依存句法\n",
    "\n",
    "tree=Tree.fromstring(nlp.parse(sentence))\n",
    "tree.draw()\n",
    "\n",
    "print(tree.height())#树的高度\n",
    "print(tree.leaves())#树的叶子结点\n",
    "\n",
    "tree.productions()#生成与树的非终端节点对应的结果\n",
    "\n",
    "\n",
    "\n",
    "\n"
   ]
  },
  {
   "cell_type": "code",
   "execution_count": 12,
   "metadata": {},
   "outputs": [],
   "source": []
  },
  {
   "cell_type": "code",
   "execution_count": null,
   "metadata": {},
   "outputs": [],
   "source": []
  },
  {
   "cell_type": "code",
   "execution_count": null,
   "metadata": {},
   "outputs": [],
   "source": []
  }
 ],
 "metadata": {
  "kernelspec": {
   "display_name": "Python [conda env:NLP_DEMO]",
   "language": "python",
   "name": "conda-env-NLP_DEMO-py"
  },
  "language_info": {
   "codemirror_mode": {
    "name": "ipython",
    "version": 3
   },
   "file_extension": ".py",
   "mimetype": "text/x-python",
   "name": "python",
   "nbconvert_exporter": "python",
   "pygments_lexer": "ipython3",
   "version": "3.6.8"
  },
  "toc": {
   "base_numbering": 1,
   "nav_menu": {},
   "number_sections": true,
   "sideBar": true,
   "skip_h1_title": false,
   "title_cell": "Table of Contents",
   "title_sidebar": "Contents",
   "toc_cell": false,
   "toc_position": {},
   "toc_section_display": true,
   "toc_window_display": false
  }
 },
 "nbformat": 4,
 "nbformat_minor": 4
}
