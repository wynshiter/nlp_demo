{
 "cells": [
  {
   "cell_type": "code",
   "execution_count": 1,
   "metadata": {},
   "outputs": [
    {
     "data": {
      "text/html": [
       "<style>.container { width:100% !important; }</style>"
      ],
      "text/plain": [
       "<IPython.core.display.HTML object>"
      ]
     },
     "metadata": {},
     "output_type": "display_data"
    }
   ],
   "source": [
    "\n",
    "#-------------------------------------------------------------------------------\n",
    "'''\n",
    "@Author  :   {SEASON}\n",
    "@License :   (C) Copyright 2013-2022, {OLD_IT_WANG}\n",
    "@Contact :   {shiter@live.cn}\n",
    "@Software:   PyCharm\n",
    "@File    :   NLP_DEMO -- ThemeRiver\n",
    "@Time    :   2020/9/13 23:14\n",
    "@Desc    :\n",
    "\n",
    "'''\n",
    "#-------------------------------------------------------------------------------\n",
    "\n",
    "\n",
    "%load_ext autoreload\n",
    "%autoreload 2\n",
    "\n",
    "import re\n",
    "import jieba\n",
    "import pandas as pd\n",
    "import openpyxl\n",
    "import pyecharts.options as opts\n",
    "from pyecharts.charts import ThemeRiver\n",
    "import pandas as pd\n",
    "\n",
    "from IPython.core.display import display, HTML\n",
    "display(HTML(\"<style>.container { width:100% !important; }</style>\"))\n",
    "# set up display area to show dataframe in jupyter qtconsole\n",
    "\n",
    "import matplotlib\n",
    "%matplotlib inline\n",
    "\n",
    "#显示列的条数\n",
    "pd.set_option('max_columns',1000) \n",
    "#显示行的条数\n",
    "pd.set_option('max_row',300) \n",
    "#显示数值的精度\n",
    "pd.set_option('display.float_format', lambda x: '%.5f' % x)\n",
    "\n",
    "#设置value的显示长度为100，默认为50\n",
    "pd.set_option('max_colwidth',100)"
   ]
  },
  {
   "cell_type": "code",
   "execution_count": 2,
   "metadata": {},
   "outputs": [
    {
     "data": {
      "text/plain": [
       "['D:\\\\ProgramData\\\\Anaconda3\\\\envs\\\\NLP_DEMO\\\\python36.zip',\n",
       " 'D:\\\\ProgramData\\\\Anaconda3\\\\envs\\\\NLP_DEMO\\\\DLLs',\n",
       " 'D:\\\\ProgramData\\\\Anaconda3\\\\envs\\\\NLP_DEMO\\\\lib',\n",
       " 'D:\\\\ProgramData\\\\Anaconda3\\\\envs\\\\NLP_DEMO',\n",
       " '',\n",
       " 'C:\\\\Users\\\\Lenovo\\\\AppData\\\\Roaming\\\\Python\\\\Python36\\\\site-packages',\n",
       " 'D:\\\\ProgramData\\\\Anaconda3\\\\envs\\\\NLP_DEMO\\\\lib\\\\site-packages',\n",
       " 'D:\\\\ProgramData\\\\Anaconda3\\\\envs\\\\NLP_DEMO\\\\lib\\\\site-packages\\\\win32',\n",
       " 'D:\\\\ProgramData\\\\Anaconda3\\\\envs\\\\NLP_DEMO\\\\lib\\\\site-packages\\\\win32\\\\lib',\n",
       " 'D:\\\\ProgramData\\\\Anaconda3\\\\envs\\\\NLP_DEMO\\\\lib\\\\site-packages\\\\Pythonwin',\n",
       " 'D:\\\\ProgramData\\\\Anaconda3\\\\envs\\\\NLP_DEMO\\\\lib\\\\site-packages\\\\IPython\\\\extensions',\n",
       " 'C:\\\\Users\\\\Lenovo\\\\.ipython',\n",
       " 'D:\\\\code\\\\python\\\\csdn_nlp\\\\NLP_DEMO']"
      ]
     },
     "execution_count": 2,
     "metadata": {},
     "output_type": "execute_result"
    }
   ],
   "source": [
    "\n",
    "\n",
    "import os\n",
    "import sys\n",
    "module_path = os.path.abspath(os.path.join('../..'))\n",
    "if module_path not in sys.path:\n",
    "    sys.path.append(module_path)\n",
    "\n",
    "sys.path"
   ]
  },
  {
   "cell_type": "code",
   "execution_count": 3,
   "metadata": {},
   "outputs": [
    {
     "name": "stdout",
     "output_type": "stream",
     "text": [
      "2020-10-07 20:07:09,070 INFO sqlalchemy.engine.base.Engine SELECT CAST('test plain returns' AS VARCHAR(60)) AS anon_1\n",
      "2020-10-07 20:07:09,072 INFO sqlalchemy.engine.base.Engine ()\n",
      "2020-10-07 20:07:09,076 INFO sqlalchemy.engine.base.Engine SELECT CAST('test unicode returns' AS VARCHAR(60)) AS anon_1\n",
      "2020-10-07 20:07:09,078 INFO sqlalchemy.engine.base.Engine ()\n",
      "2020-10-07 20:07:09,082 INFO sqlalchemy.engine.base.Engine BEGIN (implicit)\n",
      "2020-10-07 20:07:09,085 INFO sqlalchemy.engine.base.Engine SELECT \"CSDN_Blog\".label AS \"CSDN_Blog_label\" \n",
      "FROM \"CSDN_Blog\"\n",
      "2020-10-07 20:07:09,093 INFO sqlalchemy.engine.base.Engine ()\n",
      "2020-10-07 20:07:09,460 INFO sqlalchemy.engine.base.Engine SELECT \"CSDN_Blog\".article_id AS \"CSDN_Blog_article_id\", \"CSDN_Blog\".title AS \"CSDN_Blog_title\", \"CSDN_Blog\".content AS \"CSDN_Blog_content\", \"CSDN_Blog\".create_time AS \"CSDN_Blog_create_time\", \"CSDN_Blog\".click_number AS \"CSDN_Blog_click_number\", \"CSDN_Blog\".comment_number AS \"CSDN_Blog_comment_number\", \"CSDN_Blog\".label AS \"CSDN_Blog_label\", \"CSDN_Blog\".article_type AS \"CSDN_Blog_article_type\", \"CSDN_Blog\".number_of_labels AS \"CSDN_Blog_number_of_labels\", \"CSDN_Blog\".create_time_year AS \"CSDN_Blog_create_time_year\", \"CSDN_Blog\".create_time_month AS \"CSDN_Blog_create_time_month\", \"CSDN_Blog\".create_time_week AS \"CSDN_Blog_create_time_week\", \"CSDN_Blog\".create_time_hour AS \"CSDN_Blog_create_time_hour\" \n",
      "FROM \"CSDN_Blog\"\n",
      "2020-10-07 20:07:09,462 INFO sqlalchemy.engine.base.Engine ()\n"
     ]
    }
   ],
   "source": [
    "\n",
    "from Database import blog, mySQLiteForblog\n",
    "from src import assistance_tool\n",
    "\n",
    "\n",
    "\n",
    "STR_PATH_SQLITE = 'sqlite:///../../Database/NLP_demo.db?check_same_thread=False'\n",
    "\n",
    "DBSession = mySQLiteForblog.get_conn(STR_PATH_SQLITE, True)\n",
    "\n",
    "blog = blog.CsdnBlog\n",
    "\n",
    "\n",
    "all_blog_label = DBSession.query(blog.label).all()\n",
    "\n",
    "# print(all_blog_label)\n",
    "\n",
    "df = pd.DataFrame(DBSession.query(blog).all())"
   ]
  },
  {
   "cell_type": "code",
   "execution_count": 7,
   "metadata": {},
   "outputs": [
    {
     "name": "stdout",
     "output_type": "stream",
     "text": [
      "2020-10-07 20:09:03,375 INFO sqlalchemy.engine.base.OptionEngine SELECT \"CSDN_Blog\".label, \"CSDN_Blog\".title, \"CSDN_Blog\".content, \"CSDN_Blog\".create_time, \"CSDN_Blog\".click_number \n",
      "FROM \"CSDN_Blog\"\n",
      "2020-10-07 20:09:03,376 INFO sqlalchemy.engine.base.OptionEngine ()\n"
     ]
    }
   ],
   "source": [
    "df = pd.read_sql(sql = DBSession.query(blog)\\\n",
    "                         .with_entities(blog.label,\n",
    "                                        blog.title,blog.content,blog.create_time,blog.click_number).statement, \n",
    "                 con = DBSession.bind)"
   ]
  },
  {
   "cell_type": "code",
   "execution_count": 8,
   "metadata": {},
   "outputs": [
    {
     "data": {
      "text/html": [
       "<div>\n",
       "<style scoped>\n",
       "    .dataframe tbody tr th:only-of-type {\n",
       "        vertical-align: middle;\n",
       "    }\n",
       "\n",
       "    .dataframe tbody tr th {\n",
       "        vertical-align: top;\n",
       "    }\n",
       "\n",
       "    .dataframe thead th {\n",
       "        text-align: right;\n",
       "    }\n",
       "</style>\n",
       "<table border=\"1\" class=\"dataframe\">\n",
       "  <thead>\n",
       "    <tr style=\"text-align: right;\">\n",
       "      <th></th>\n",
       "      <th>label</th>\n",
       "      <th>title</th>\n",
       "      <th>content</th>\n",
       "      <th>create_time</th>\n",
       "      <th>click_number</th>\n",
       "    </tr>\n",
       "  </thead>\n",
       "  <tbody>\n",
       "    <tr>\n",
       "      <th>0</th>\n",
       "      <td>,\\n                                       生活感悟                                   ,\\n            ...</td>\n",
       "      <td>从前有一个程序员，成天写代码，后来，他屎了。。。</td>\n",
       "      <td>\\n\\n\\n\\n\\n\\n\\n之前这里是网易云音乐 的外链，许巍演唱版本的《执着》，我们搞IT 的多少都有些执着，后来网页没有了版权，我只好放上来歌词了。 如果对文章没有太多兴趣，可以只读一遍歌...</td>\n",
       "      <td>2019-10-20 21:35:09</td>\n",
       "      <td>20187</td>\n",
       "    </tr>\n",
       "    <tr>\n",
       "      <th>1</th>\n",
       "      <td>,\\n                                       自然语言处理实战入门</td>\n",
       "      <td>《自然语言处理实战入门》基础知识 ---- NLP开源工具包与云服务提供商</td>\n",
       "      <td>\\n\\n\\n\\n\\n\\n\\n文章大纲NLTK语法树GensimStanfordNLP安装使用样例SpacyFeatures架构模型及语言支持基本使用代码实例pipeline参考文档\\n在1.3...</td>\n",
       "      <td>2020-07-20 00:39:09</td>\n",
       "      <td>110</td>\n",
       "    </tr>\n",
       "    <tr>\n",
       "      <th>2</th>\n",
       "      <td>,\\n                                       老王和他的IT界朋友们</td>\n",
       "      <td>PCA主成分分析（上）</td>\n",
       "      <td>\\n\\n\\n\\n\\n人的悲欢并不相通，我只觉得他们吵闹——鲁迅\\n写这篇文章之前，脑海里鬼使神差般的浮出这句话，于是决定把它加在开篇之前。\\n作者：赵蕾\\n------------------...</td>\n",
       "      <td>2020-07-16 09:59:04</td>\n",
       "      <td>139</td>\n",
       "    </tr>\n",
       "    <tr>\n",
       "      <th>3</th>\n",
       "      <td>,\\n                                       自然语言处理实战入门</td>\n",
       "      <td>《自然语言处理实战入门》基础知识 ----机器学习与深度学习组件</td>\n",
       "      <td>\\n\\n\\n\\n\\n\\n\\n文章大纲numpywhat is numpyArray objectTricks and TipspandasWhat kind of data does pand...</td>\n",
       "      <td>2020-07-02 00:24:46</td>\n",
       "      <td>207</td>\n",
       "    </tr>\n",
       "    <tr>\n",
       "      <th>4</th>\n",
       "      <td>,\\n                                       自然语言处理实战入门</td>\n",
       "      <td>《自然语言处理实战入门》 深度学习组件TensorFlow2.0---- 初探</td>\n",
       "      <td>\\n\\n\\n\\n\\n\\n\\n文章大纲简介基本概念张量计算图自动微分基本操作数据加载TensorFlow 2.0 升级的主要内容升级的主要内容1. API  清理2. Eager executi...</td>\n",
       "      <td>2020-06-26 01:16:12</td>\n",
       "      <td>286</td>\n",
       "    </tr>\n",
       "    <tr>\n",
       "      <th>...</th>\n",
       "      <td>...</td>\n",
       "      <td>...</td>\n",
       "      <td>...</td>\n",
       "      <td>...</td>\n",
       "      <td>...</td>\n",
       "    </tr>\n",
       "    <tr>\n",
       "      <th>403</th>\n",
       "      <td>,centos                                                                    database             ...</td>\n",
       "      <td>Centos学习笔记---文件搜索命令</td>\n",
       "      <td>\\n\\n\\n \\n2012-2-8 星期三\\n文件搜索命令:\\n\\nwhich [命令名称]\\n功能：显示系统命令所在目录(绝对路径)\\n\\n$which ls\\nwhereis可以表现出命令...</td>\n",
       "      <td>2012-02-08 23:50:37</td>\n",
       "      <td>14049</td>\n",
       "    </tr>\n",
       "    <tr>\n",
       "      <th>404</th>\n",
       "      <td>,</td>\n",
       "      <td>计算机专业毕业生，求职升学，英语自我介绍</td>\n",
       "      <td>\\n\\n\\n \\nBefore my introduction, I have to express my great gratitude to the opportunity of this...</td>\n",
       "      <td>2012-02-06 01:47:08</td>\n",
       "      <td>1607</td>\n",
       "    </tr>\n",
       "    <tr>\n",
       "      <th>405</th>\n",
       "      <td>,\\n                                       c++                                   ,\\n             ...</td>\n",
       "      <td>VC之CString,wchar_t,int,string,char*之间的转换</td>\n",
       "      <td>\\n\\n\\n \\n  VC之CString,wchar_t,int,string,char*之间的转换\\n\\n\\n1. CString 转 wchar_t\\nCString path = \"a...</td>\n",
       "      <td>2012-02-05 18:35:33</td>\n",
       "      <td>1232</td>\n",
       "    </tr>\n",
       "    <tr>\n",
       "      <th>406</th>\n",
       "      <td>,\\n                                       Linux功能实现                                   ,centos   ...</td>\n",
       "      <td>centos 学习笔记--文件处理命令</td>\n",
       "      <td>\\n\\n\\n \\n2012-2-4\\n文件处理命令：cat 命令英文原意： concateate and display files\\n命令所在路径：/bin/cat\\n执行权限：所有用户\\n...</td>\n",
       "      <td>2012-02-05 18:30:07</td>\n",
       "      <td>1268</td>\n",
       "    </tr>\n",
       "    <tr>\n",
       "      <th>407</th>\n",
       "      <td>,\\n                                       Linux功能实现                                   ,centos   ...</td>\n",
       "      <td>Centos学习笔记--安装</td>\n",
       "      <td>\\n\\n\\n \\ncentos6.0如果采用默认的最小化安装是没有安装桌面环境的，因此需要手动安装桌面环境。\\n我们可以用 #yum grouplist 查看已经安装的组件，以及支持安装的组件...</td>\n",
       "      <td>2012-02-02 21:53:07</td>\n",
       "      <td>1242</td>\n",
       "    </tr>\n",
       "  </tbody>\n",
       "</table>\n",
       "<p>408 rows × 5 columns</p>\n",
       "</div>"
      ],
      "text/plain": [
       "                                                                                                   label  \\\n",
       "0    ,\\n                                       生活感悟                                   ,\\n            ...   \n",
       "1                ,\\n                                       自然语言处理实战入门                                      \n",
       "2               ,\\n                                       老王和他的IT界朋友们                                      \n",
       "3                ,\\n                                       自然语言处理实战入门                                      \n",
       "4                ,\\n                                       自然语言处理实战入门                                      \n",
       "..                                                                                                   ...   \n",
       "403  ,centos                                                                    database             ...   \n",
       "404                                                                                                    ,   \n",
       "405  ,\\n                                       c++                                   ,\\n             ...   \n",
       "406  ,\\n                                       Linux功能实现                                   ,centos   ...   \n",
       "407  ,\\n                                       Linux功能实现                                   ,centos   ...   \n",
       "\n",
       "                                        title  \\\n",
       "0                    从前有一个程序员，成天写代码，后来，他屎了。。。   \n",
       "1       《自然语言处理实战入门》基础知识 ---- NLP开源工具包与云服务提供商   \n",
       "2                                 PCA主成分分析（上）   \n",
       "3            《自然语言处理实战入门》基础知识 ----机器学习与深度学习组件   \n",
       "4     《自然语言处理实战入门》 深度学习组件TensorFlow2.0---- 初探   \n",
       "..                                        ...   \n",
       "403                       Centos学习笔记---文件搜索命令   \n",
       "404                      计算机专业毕业生，求职升学，英语自我介绍   \n",
       "405  VC之CString,wchar_t,int,string,char*之间的转换   \n",
       "406                       centos 学习笔记--文件处理命令   \n",
       "407                            Centos学习笔记--安装   \n",
       "\n",
       "                                                                                                 content  \\\n",
       "0    \\n\\n\\n\\n\\n\\n\\n之前这里是网易云音乐 的外链，许巍演唱版本的《执着》，我们搞IT 的多少都有些执着，后来网页没有了版权，我只好放上来歌词了。 如果对文章没有太多兴趣，可以只读一遍歌...   \n",
       "1    \\n\\n\\n\\n\\n\\n\\n文章大纲NLTK语法树GensimStanfordNLP安装使用样例SpacyFeatures架构模型及语言支持基本使用代码实例pipeline参考文档\\n在1.3...   \n",
       "2    \\n\\n\\n\\n\\n人的悲欢并不相通，我只觉得他们吵闹——鲁迅\\n写这篇文章之前，脑海里鬼使神差般的浮出这句话，于是决定把它加在开篇之前。\\n作者：赵蕾\\n------------------...   \n",
       "3    \\n\\n\\n\\n\\n\\n\\n文章大纲numpywhat is numpyArray objectTricks and TipspandasWhat kind of data does pand...   \n",
       "4    \\n\\n\\n\\n\\n\\n\\n文章大纲简介基本概念张量计算图自动微分基本操作数据加载TensorFlow 2.0 升级的主要内容升级的主要内容1. API  清理2. Eager executi...   \n",
       "..                                                                                                   ...   \n",
       "403  \\n\\n\\n \\n2012-2-8 星期三\\n文件搜索命令:\\n\\nwhich [命令名称]\\n功能：显示系统命令所在目录(绝对路径)\\n\\n$which ls\\nwhereis可以表现出命令...   \n",
       "404  \\n\\n\\n \\nBefore my introduction, I have to express my great gratitude to the opportunity of this...   \n",
       "405  \\n\\n\\n \\n  VC之CString,wchar_t,int,string,char*之间的转换\\n\\n\\n1. CString 转 wchar_t\\nCString path = \"a...   \n",
       "406  \\n\\n\\n \\n2012-2-4\\n文件处理命令：cat 命令英文原意： concateate and display files\\n命令所在路径：/bin/cat\\n执行权限：所有用户\\n...   \n",
       "407  \\n\\n\\n \\ncentos6.0如果采用默认的最小化安装是没有安装桌面环境的，因此需要手动安装桌面环境。\\n我们可以用 #yum grouplist 查看已经安装的组件，以及支持安装的组件...   \n",
       "\n",
       "            create_time  click_number  \n",
       "0   2019-10-20 21:35:09         20187  \n",
       "1   2020-07-20 00:39:09           110  \n",
       "2   2020-07-16 09:59:04           139  \n",
       "3   2020-07-02 00:24:46           207  \n",
       "4   2020-06-26 01:16:12           286  \n",
       "..                  ...           ...  \n",
       "403 2012-02-08 23:50:37         14049  \n",
       "404 2012-02-06 01:47:08          1607  \n",
       "405 2012-02-05 18:35:33          1232  \n",
       "406 2012-02-05 18:30:07          1268  \n",
       "407 2012-02-02 21:53:07          1242  \n",
       "\n",
       "[408 rows x 5 columns]"
      ]
     },
     "execution_count": 8,
     "metadata": {},
     "output_type": "execute_result"
    }
   ],
   "source": [
    "df"
   ]
  },
  {
   "cell_type": "code",
   "execution_count": 30,
   "metadata": {},
   "outputs": [],
   "source": [
    "# 可根据es 所有的 数据格式进行设置：https://www.elastic.co/guide/en/elasticsearch/reference/current/mapping-types.html\n",
    "\n",
    "blog_IntegerType_list = ['click_number']\n",
    "blog_str_list = ['title','content']\n",
    "blog_time_list = ['create_time']\n",
    "blog_keywork_list = ['label']"
   ]
  },
  {
   "cell_type": "code",
   "execution_count": 52,
   "metadata": {},
   "outputs": [],
   "source": [
    "create_blog_body = {\n",
    "    \"properties\": {\n",
    "\n",
    "    }\n",
    "}\n",
    "\n",
    "from operate_es import mapping_generator\n",
    "\n",
    "### 简单的将 数值型 与字符型调出来\n",
    "\n",
    "\n",
    "dict_mapper = mapping_generator.set_mapper_field(blog_IntegerType_list, 'integer', create_blog_body)\n",
    "dict_mapper = mapping_generator.set_mapper_field_text(blog_str_list, 'text', dict_mapper,'ik_max_word','ik_smart')\n",
    "dict_mapper = mapping_generator.set_mapper_field(blog_time_list, 'date', dict_mapper)\n",
    "dict_mapper = mapping_generator.set_mapper_field(blog_keywork_list, 'keyword', dict_mapper)"
   ]
  },
  {
   "cell_type": "code",
   "execution_count": 53,
   "metadata": {},
   "outputs": [
    {
     "data": {
      "text/plain": [
       "{'properties': {'click_number': {'type': 'integer'},\n",
       "  'title': {'type': 'text',\n",
       "   'analyzer': 'ik_max_word',\n",
       "   'search_analyzer': 'ik_smart'},\n",
       "  'content': {'type': 'text',\n",
       "   'analyzer': 'ik_max_word',\n",
       "   'search_analyzer': 'ik_smart'},\n",
       "  'create_time': {'type': 'date'},\n",
       "  'label': {'type': 'keyword'}}}"
      ]
     },
     "execution_count": 53,
     "metadata": {},
     "output_type": "execute_result"
    }
   ],
   "source": [
    "dict_mapper"
   ]
  },
  {
   "cell_type": "code",
   "execution_count": 54,
   "metadata": {},
   "outputs": [
    {
     "data": {
      "text/plain": [
       "{'label': ',\\n                                       生活感悟                                   ,\\n                                       老王和他的IT界朋友们                                   ,\\n                                       程序人生                                   ',\n",
       " 'title': '从前有一个程序员，成天写代码，后来，他屎了。。。',\n",
       " 'content': '\\n\\n\\n\\n\\n\\n\\n之前这里是网易云音乐 的外链，许巍演唱版本的《执着》，我们搞IT 的多少都有些执着，后来网页没有了版权，我只好放上来歌词了。 如果对文章没有太多兴趣，可以只读一遍歌词，或者听一遍歌，哈哈。\\n每个夜晚来临的时候\\n孤独总在我左右\\n每个黄昏心跳的等候\\n是我无限的温柔\\n每次面对你时候\\n不敢看你的双眸\\n在我温柔的笑容背后\\n有多少泪水哀愁\\n不管时空怎么转变\\n世界怎么改变\\n你的爱总在我心间\\n你是否明白\\n我想超越这平凡的生活\\n注定现在暂时漂泊\\n无法停止我内心的狂热\\n对未来的执著\\n拥抱着你Oh my baby\\n你看到我在流泪\\n是否爱你让我伤悲\\n让我心碎\\n拥抱着你Oh my baby\\n可你知道我无法后退\\n纵然使我苍白憔悴\\n伤痕累累\\n\\n文章大纲1. 从前有一个程序员，成天写代码，后来，他屎了2. 我选择的路，值么？3. 献身理想\\n\\n每天你都有机会和很多人擦身而过，而你或者对他们一无所知，不过也许有一天他会变成你的朋友或是知己……\\n先来看看老王和他的IT界朋友们吧\\n\\n\\n\\n\\n\\n\\n\\n\\n\\n\\n\\np.s 经常有人问我，老王，你明明可以穿的挺帅，为什么总是穿的很随意呢？\\n其实道理很简单，我是做技术活的，打扮太好人家会以为我技术不行。\\n\\n1. 从前有一个程序员，成天写代码，后来，他屎了\\n1.1 一门可以靠手艺混饭的专业\\n你好，非常荣幸能够步入改变世界的软件开发行业，接下来我们聊点正经的。回首近7-8年来的时光，发现自己可能将要走向程序员这条道路的时候最早可以追溯到2008年高考完填写志愿，那时候分数所迫，二本学校的好专业都上不了，我就想有什么专业是可以不靠学校名声而靠自己努力成就一番霸业的？思来想去选择了–计算机，作为第二志愿。。。显然那时候会计这个专业更火一些。\\n入学一年以后我有了自己第一台笔记本电脑，然而第一个装上的应用程序居然就是魔兽争霸之冰封王座，后来我们的基本修养是从练习打字，office软件开始，我是有点不屑于这样很low的东西，然而这些都是基本功，好像少林拳法，你得把少林长拳练个一年半载再练什么韦陀掌罗汉拳修习内功心法十几年有了根基再练七十二绝技，其实\\n不要轻视任何一种编程语言或者技术，这些很low的东西确确实实作为基础存在为后续高端东西铺路的。\\n1. 2.出来混，迟早要还\\n当时学校开设了vb，我又开始犯眼高手低的毛病觉得这玩意是吧，拖拖控件有什么前途？直到我看见雷总设计的十字路口交通信号灯模拟，车子随机出现带有阴影并且看到红灯能够减速，直到很多年后我才明白，技术只是手段其本身并没有优劣高下，主要看你的应用场景。就好像马克思说的武器不重要，重要的是人，一切语言技术都是服务于自己的思想的。后面还学习了几门印象深刻的课程，《网页设计》，同样给我潜意识里造成前端工作没啥技术含量的一门课程，从龙哥那里摸来了一个可以实现字幕的滚动效果的标签，就给自己网站首页index.html所有标题乐此不疲的加上，还有通过修改html把百度一下改成百度两下。这样的无知少年终于招来了老司机的呵呵，也是从那时候起，看了一本对我职业生涯影响深远的电子书《IT小小鸟》，从此泡上了论坛，从此不太看电视了，从此去了大学就喜欢在分类号TP391下面来回转转。\\n后面学到c++，java，听30几岁的秃顶老师站在台上用20年的开发经验鄙视java效率太差的时候，我的内心充满了崇拜。后面大家拼了命的照着马士兵的视频敲坦克大战，我对此嗤之以鼻。结果JAVA没怎么学，jsp也挂科了，因为两者是一个老师教的，我对java的鄙视甚至延伸到了老师身上，觉的那个老师也效率低下。不过好像确实如此，从来没见过他用快捷键调试jsp，都是后来去企业实训，代课大牛用myeclipse调试的飞起，我才恍然大悟——这玩意还能调试？！\\n那时候班里学c++的人不多，好像这个成了偏门一样，大家都去外面报了班培训三大框架，祥龙学安全方面的内容，我在学习MFC，当然其实跟没学没啥两样，代码自己就没有敲过多少行，一心就想着考研了。大学期间学过仅有的有意义的课程当属《操作系统》《数据库》，当然还是两位老师的人格魅力更加出众，几种解决同步互斥的算法我至今不是太清楚，数据库化简关系模式的算法也得上网搜了才会算。《计算机网络》《数据结构》这两门课呢，一个猥琐的抠脚大叔（没错真的是在办公室抠脚的学院当时唯一一个教授）教的，基本全靠自学，应了本段的标题，在研究生找工作期间，c++方向的面试基本全部围绕了网络进行深入探讨，滑动窗口，三次握手，拥塞控制，手写快排等等一个都跑不了，于是我面的c++岗位基本没过几个面试。出来混，迟早要还。\\n1.3.培养自己独立解决复杂问题的能力\\n回想后来大学时候在沉静下来的日子里自己还是干了点实事，系统的学习了photoshop，这激发了后来我走上计算机视觉的道路，虽然我在自然图像处理上主要用opencv库，python等封装好的算法接口，基本对图形图像处理这个行业有了整体的感觉，有什么需求大概能知道需要什么样的技术手段去解决，15年底我成为了CSDN图形图像处理版的版主，2016年6月终于凭借一些图像图像处理领域的博文评上了博客专家。我很欣慰在即将到来的生日迎来这个蛮光荣的称号。\\n上研究生后，选择导师时候希望继续学习图形图像处理，计算机视觉的相关内容，我导师的主要研究方向是搞三维重建听起来也是非常高大上，其实现在的VR就是三维重建的高端应用的吧。后来老师一直比较忙，而且到了我们这里项目没有衔接上，科研的方向选择就出现了青黄不接的尴尬情形。我从最开始老师推荐的图割算法研究的初始方向入手，从图像分割研究到立体匹配，用一句话概况就是如何改进提高图割算法在图像分割和立体匹配两个应用问题上面的性能。要么降低网络图的规模，要么改进图割算法。前人挖了个大坑，我看明白算法才深深体会到了自己做了三年的填坑工作。\\n三年的研究生涯，我在学术上面看到的论文仅仅是明白了其他人做研究的方法，对于如何创新的提出自己原创的idea去解决问题这样的能力培养基本为零，也没有能很好的锻炼出复现别人论文中代码的能力，要是别人的好方法没有给出代码，那么这个领域的问题研究就无法开展。这样的后果是严重的。直到快要毕业，才找到了立体匹配领域里面应该看的网站，文章，比如ipol，比如Middlebury，比如KITTI。\\n从开学初始，当老师问我想读博还是工作时候，年轻的我就希望早点工作赚钱，现在看来这个决定还是太草率。快要毕业了，这才心有不甘。希望自己在工作岗位上，面对各种诱惑，对于前面学过的知识做到常读常新，把基础巩固好，这样才能具有独立解决复杂问题的能力。\\n1.4.唯手熟尔\\n上大学时候，可能很多人想去做做兼职，挣点小钱喝点小酒，这样的想法也就延伸到研究生期间来，我们看到其实几年来潜心在实验室呆着的同志科研成果都非常好，这样在一个领域混熟了，把理论都研究透了，就是这个领域的专家。\\n再拿数学举个例子，高等代数，矩阵论里面成天算特征值特征向量，到底有啥用？现在机器学习这么火，稀疏矩阵降维就是用这两个东西表征的嘛，大学时候这些东西我们都学了，却为什么见了阿尔法狗那么遥不可及？基础啊，基础东西很重要。我认为只有将基础的东西融会贯通，烂熟于心，才能完成第三点，独立完成复杂的任务。这才是企业，科研单位需要的高级人才，也是三年到五年工作经验中我们应该着力培养的点。\\n我其实实习过不少单位，深圳中软，西安天文点，IBM，研究所，一路走来无论是大公司还是小单位，在我每天完成工作日志的时候，我确实发现会和熟是两码事，也许你会说他们中间的区别就是忘记了百度一下，但成年累月下来，就是软件行业加班恶习的罪魁祸首，以及自我提升的最大拦路虎(比如有的研究所就是没有外网碰到配置JAVA环境变量，或者部署机器怎么办？)。在工作中，我们强调设计模式和经验，这些都是套路，唯手熟尔！\\n\\n2. 我选择的路，值么？\\n有天坐公交车上来个傻子，不停的说笑，后来全车人都被他逗笑了，他却冷下脸来看着其他人说：傻子，你笑什么？\\n快毕业了，读了几本书，贾平凹废都写九十年代的陕西出了一帮子浪子闲汉，他们总是不满意这个不满意那个，浮躁的像一群绿头苍蝇，然后我看了陈忠实的康家小院，萧红的呼兰河传，又是不同的风格，到头来发现前辈们在书中文字里都有一种平和纯粹的专注美。《白鹿原》不愧为获得了茅盾文学奖的宏大作品，当一个老陕用地道的关中话在心里朗读这些文字的时候，你才能体会到这部作品带给你真实的，自己现实经历过地风土人情。\\n回顾自己三年的研究生学习确实浮躁，做了很多浅尝辄止的事情，比如做学生干部，却也没去高校读博当老师，也没去考考公务员，比如做计算机双目立体视觉，却连双目摄像头都没买一个，听了机器学习的课程却没有坚持下来。这个时代需要为自己做做减法，一个人在信息爆炸的时代，需要沉浸下来，专心致志的把一件事情做好。我一直有这种想法，希望为时不晚。\\n最近一段时间同学们的离校，让我心中充满了前所未有的不甘与疲惫，我们这个年龄的人大都有着同样的困惑，爱情事业，choise a f**king life。人生中黄金的三年恍如看电影按了快进。我选择的路，值么？\\n\\n3. 献身理想\\n如果不献身给一个伟大的理想，生命就是毫无意义的。----何塞，黎萨尔\\n1947年，在给长子***的信中 ，***写道：“一个人无论学什么或者做什么，只要有热情，有恒心，不要那种无着落的与人民利益不相符合的个人主义虚荣心，总会有进步的。”还特意在这段话下划了横线。那一年 *** 25岁\\n“生存还是毁灭，这是一个问题。”哈姆雷特的这句话，给我留下了极为深刻的印象。年轻的我，在当年陕北贫瘠的黄土地上，不断思考着“生存还是毁灭”的问题，最后我立下为祖国、为人民奉献自己的信念。那一年**** 16岁刚刚当选为生产队支部书记。\\n在 2012-13 赛季，邓肯减轻了 15 磅的体重。波波维奇透露，邓肯通过沙滩跑，扔铁饼、拳击等方式减重。此外，圣安东尼奥当地记者麦克卡尼开玩笑说，邓肯的饮食就像是一只老鹰的菜单（只吃鸡肉）。 当然了，邓肯只能延缓衰老，却不能逃避。于是，当身体机能不可能避免地下降时，他便靠改变打法，以及经验、意识和基本功去弥补。为什么有了 4 个冠军，他依旧要这样过这样苦行僧一样的生活呢？邓肯说，他喜欢跟队友一起坐飞机，一起去客场比赛的感觉。\\n他纯粹就是热爱篮球。所以，蒂姆·邓肯，他到底是年轻，还是老呢？他大一时就已经可以进入 NBA，但为了完成心理学学位，他一直等到大学毕业才参加选秀。这在今天，他等于放弃了一千万美元。还没 20 岁，他就像中年人般自律成熟。但在 38 岁的时候，他的赤子之心依旧没有变。在奠定了历史第一大前的地位，赚到了上亿美元以后，他依旧像新秀一样努力。他不为金钱和荣耀，只是为热爱而打球。诺维斯基在采访中说：“他（邓肯）永远只想着赢球，从来不会想着为自己打造品牌，这就是我最钦佩他的地方。”并不是热泪盈眶才叫青春，也不是莽撞热血才叫年轻。不忘初心，便始终都是年轻。悲哀的是，多少人把放纵当热血，并把早熟和自律当做陈腐来嬉笑。岁月还未过多流逝之前，他们的身体和精神就已经被掏空，提早告别了青春。\\n不忘初心，严格自律，正是这些杰出人物的共同特点。在此，老王和大家共勉。\\n关注我的订阅号：老王和他的IT界朋友们，我们在这里缅怀IT人的情怀，在这里think different，在这里stay hungry，站在老王他们家隔壁的风口上灰翔！！！\\n\\n\\n\\n\\n扫码关注公众号\\n\\n\\n\\n\\n\\n\\n\\n\\n\\n\\n\\n个人答疑号\\n\\n\\n\\n\\n\\n\\n\\n\\n\\n\\n\\n\\n',\n",
       " 'create_time': Timestamp('2019-10-20 21:35:09'),\n",
       " 'click_number': 20187}"
      ]
     },
     "execution_count": 54,
     "metadata": {},
     "output_type": "execute_result"
    }
   ],
   "source": [
    "df_json = df.to_json(orient = 'records', force_ascii = False)\n",
    "df_dict = df.to_dict(orient='records')\n",
    "df_dict[0]"
   ]
  },
  {
   "cell_type": "code",
   "execution_count": 55,
   "metadata": {},
   "outputs": [],
   "source": [
    "import os\n",
    "import sys\n",
    "module_path = os.path.abspath(os.path.join('operate_es'))\n",
    "if module_path not in sys.path:\n",
    "    sys.path.append(module_path)"
   ]
  },
  {
   "cell_type": "code",
   "execution_count": 62,
   "metadata": {},
   "outputs": [
    {
     "name": "stdout",
     "output_type": "stream",
     "text": [
      "开始数据录入\n",
      "performed 408 actions\n"
     ]
    }
   ],
   "source": [
    "from elasticsearch import Elasticsearch\n",
    "from operate_es import load_datafile_to_elasticsearch \n",
    "from operate_es import load_datafile_to_elasticsearch_settings\n",
    "\n",
    "es_instance = Elasticsearch('117.33.229.184' + ':' + '9200')\n",
    "load_datafile_to_elasticsearch.create_and_init_index_with_pandas_dataframe(es_instance,'my_blog',dict_mapper,df)"
   ]
  },
  {
   "cell_type": "code",
   "execution_count": null,
   "metadata": {},
   "outputs": [],
   "source": []
  }
 ],
 "metadata": {
  "kernelspec": {
   "display_name": "Python [conda env:NLP_DEMO]",
   "language": "python",
   "name": "conda-env-NLP_DEMO-py"
  },
  "language_info": {
   "codemirror_mode": {
    "name": "ipython",
    "version": 3
   },
   "file_extension": ".py",
   "mimetype": "text/x-python",
   "name": "python",
   "nbconvert_exporter": "python",
   "pygments_lexer": "ipython3",
   "version": "3.6.8"
  },
  "toc": {
   "base_numbering": 1,
   "nav_menu": {},
   "number_sections": true,
   "sideBar": true,
   "skip_h1_title": false,
   "title_cell": "Table of Contents",
   "title_sidebar": "Contents",
   "toc_cell": false,
   "toc_position": {},
   "toc_section_display": true,
   "toc_window_display": false
  }
 },
 "nbformat": 4,
 "nbformat_minor": 4
}
