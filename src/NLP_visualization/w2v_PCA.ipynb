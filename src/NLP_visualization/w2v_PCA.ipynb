{
 "cells": [
  {
   "cell_type": "code",
   "execution_count": null,
   "metadata": {},
   "outputs": [],
   "source": []
  },
  {
   "cell_type": "code",
   "execution_count": 1,
   "metadata": {},
   "outputs": [],
   "source": [
    "from gensim.models import Word2Vec\n",
    "from sklearn.cluster import KMeans\n",
    "import matplotlib.pyplot as plt\n",
    "from sklearn.decomposition import PCA\n",
    "pca = PCA(n_components=2)\n",
    "KM = KMeans(n_clusters=2)\n",
    "\n",
    "from gensim.models import KeyedVectors\n",
    "model = KeyedVectors.load_word2vec_format(r\"D:\\code\\python\\csdn_nlp\\word2vector\\sgns.target.word-word.dynwin5.thr10.neg5.dim300.iter5\\sgns.target.word-word.dynwin5.thr10.neg5.dim300.iter5\", binary=False) # 加载时间比较长\n",
    "#model.init_sims(replace=True)\n",
    "\n",
    "#model = Word2Vec.load(r\"D:\\code\\python\\csdn_nlp\\word2vector\\sgns.target.word-word.dynwin5.thr10.neg5.dim300.iter5\\sgns.target.word-word.dynwin5.thr10.neg5.dim300.iter5\")\n",
    "#加载训练好的模型\n"
   ]
  },
  {
   "cell_type": "code",
   "execution_count": 5,
   "metadata": {},
   "outputs": [
    {
     "name": "stderr",
     "output_type": "stream",
     "text": [
      "D:\\ProgramData\\Anaconda3\\envs\\NLP_DEMO\\lib\\site-packages\\ipykernel_launcher.py:7: DeprecationWarning: Call to deprecated `wv` (Attribute will be removed in 4.0.0, use self instead).\n",
      "  import sys\n",
      "D:\\ProgramData\\Anaconda3\\envs\\NLP_DEMO\\lib\\site-packages\\ipykernel_launcher.py:37: MatplotlibDeprecationWarning: The 's' parameter of annotate() has been renamed 'text' since Matplotlib 3.3; support for the old name will be dropped two minor releases later.\n"
     ]
    },
    {
     "data": {
      "image/png": "[encoded data removed]",
      "text/plain": [
       "<Figure size 432x288 with 1 Axes>"
      ]
     },
     "metadata": {
      "needs_background": "light"
     },
     "output_type": "display_data"
    }
   ],
   "source": [
    "import matplotlib\n",
    "matplotlib.rcParams['axes.unicode_minus'] =False\n",
    "plt.rcParams['font.sans-serif'] = ['SimHei']\n",
    "\n",
    "\n",
    "corpus = []\n",
    "B = model.wv.index2word  #获取word2vec训练过的词汇\n",
    "\n",
    "\n",
    "word_num = 10 # 显示词语的个数\n",
    "\n",
    "gb = open(r'D:\\code\\python\\csdn_nlp\\NLP_DEMO\\Resources\\dict\\THUOCL_medical.txt',encoding='utf-8').readlines()\n",
    "\n",
    "\n",
    "for word in gb[:word_num]:    #为了方便，每个词库只取了前面30个单词\n",
    "    word = word.split('\\t')\n",
    "    if word[0] in B:\n",
    "        corpus.append(word[0])\n",
    "\n",
    "fb = open(r'D:\\code\\python\\csdn_nlp\\NLP_DEMO\\Resources\\dict\\THUOCL_diming.txt',encoding='utf-8').readlines()\n",
    "\n",
    "for word in fb[:word_num]:\n",
    "    word = word.split('\\t')\n",
    "    if word[0] in B:\n",
    "        corpus.append(word[0])\n",
    "        \n",
    "vector = model[corpus]\n",
    "vector_ = pca.fit_transform(vector)\n",
    "\n",
    "y_ = KM.fit_predict(vector_)\n",
    "\n",
    "\n",
    "plt.scatter(vector_[:,0],vector_[:,1],c=y_)\n",
    "\n",
    "for i in range(len(corpus)):    #给每个点进行标注\n",
    "    plt.annotate(s=corpus[i], xy=(vector_[:, 0][i], vector_[:, 1][i]),\n",
    "                 xytext=(vector_[:, 0][i] + 0.1, vector_[:, 1][i] + 0.1))\n",
    "plt.show()"
   ]
  },
  {
   "cell_type": "code",
   "execution_count": null,
   "metadata": {},
   "outputs": [],
   "source": []
  }
 ],
 "metadata": {
  "kernelspec": {
   "display_name": "Python [conda env:NLP_DEMO]",
   "language": "python",
   "name": "conda-env-NLP_DEMO-py"
  },
  "language_info": {
   "codemirror_mode": {
    "name": "ipython",
    "version": 3
   },
   "file_extension": ".py",
   "mimetype": "text/x-python",
   "name": "python",
   "nbconvert_exporter": "python",
   "pygments_lexer": "ipython3",
   "version": "3.6.8"
  },
  "toc": {
   "base_numbering": 1,
   "nav_menu": {},
   "number_sections": true,
   "sideBar": true,
   "skip_h1_title": false,
   "title_cell": "Table of Contents",
   "title_sidebar": "Contents",
   "toc_cell": false,
   "toc_position": {},
   "toc_section_display": true,
   "toc_window_display": false
  }
 },
 "nbformat": 4,
 "nbformat_minor": 4
}
