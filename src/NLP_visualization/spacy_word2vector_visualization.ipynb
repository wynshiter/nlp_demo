{
 "cells": [
  {
   "cell_type": "code",
   "execution_count": 1,
   "metadata": {},
   "outputs": [
    {
     "name": "stderr",
     "output_type": "stream",
     "text": [
      "Building prefix dict from the default dictionary ...\n",
      "Loading model from cache C:\\Users\\Lenovo\\AppData\\Local\\Temp\\jieba.cache\n",
      "Loading model cost 1.548 seconds.\n",
      "Prefix dict has been built succesfully.\n"
     ]
    },
    {
     "data": {
      "text/html": [
       "\n",
       "<div id=\"altair-viz-8d03b209a68d4e6a8eb6c4cfb139253e\"></div>\n",
       "<script type=\"text/javascript\">\n",
       "  (function(spec, embedOpt){\n",
       "    let outputDiv = document.currentScript.previousElementSibling;\n",
       "    if (outputDiv.id !== \"altair-viz-8d03b209a68d4e6a8eb6c4cfb139253e\") {\n",
       "      outputDiv = document.getElementById(\"altair-viz-8d03b209a68d4e6a8eb6c4cfb139253e\");\n",
       "    }\n",
       "    const paths = {\n",
       "      \"vega\": \"https://cdn.jsdelivr.net/npm//vega@5?noext\",\n",
       "      \"vega-lib\": \"https://cdn.jsdelivr.net/npm//vega-lib?noext\",\n",
       "      \"vega-lite\": \"https://cdn.jsdelivr.net/npm//vega-lite@4.8.1?noext\",\n",
       "      \"vega-embed\": \"https://cdn.jsdelivr.net/npm//vega-embed@6?noext\",\n",
       "    };\n",
       "\n",
       "    function loadScript(lib) {\n",
       "      return new Promise(function(resolve, reject) {\n",
       "        var s = document.createElement('script');\n",
       "        s.src = paths[lib];\n",
       "        s.async = true;\n",
       "        s.onload = () => resolve(paths[lib]);\n",
       "        s.onerror = () => reject(`Error loading script: ${paths[lib]}`);\n",
       "        document.getElementsByTagName(\"head\")[0].appendChild(s);\n",
       "      });\n",
       "    }\n",
       "\n",
       "    function showError(err) {\n",
       "      outputDiv.innerHTML = `<div class=\"error\" style=\"color:red;\">${err}</div>`;\n",
       "      throw err;\n",
       "    }\n",
       "\n",
       "    function displayChart(vegaEmbed) {\n",
       "      vegaEmbed(outputDiv, spec, embedOpt)\n",
       "        .catch(err => showError(`Javascript Error: ${err.message}<br>This usually means there's a typo in your chart specification. See the javascript console for the full traceback.`));\n",
       "    }\n",
       "\n",
       "    if(typeof define === \"function\" && define.amd) {\n",
       "      requirejs.config({paths});\n",
       "      require([\"vega-embed\"], displayChart, err => showError(`Error loading script: ${err.message}`));\n",
       "    } else if (typeof vegaEmbed === \"function\") {\n",
       "      displayChart(vegaEmbed);\n",
       "    } else {\n",
       "      loadScript(\"vega\")\n",
       "        .then(() => loadScript(\"vega-lite\"))\n",
       "        .then(() => loadScript(\"vega-embed\"))\n",
       "        .catch(showError)\n",
       "        .then(() => displayChart(vegaEmbed));\n",
       "    }\n",
       "  })({\"config\": {\"view\": {\"continuousWidth\": 400, \"continuousHeight\": 300}}, \"layer\": [{\"mark\": {\"type\": \"circle\", \"size\": 60}, \"encoding\": {\"color\": {\"type\": \"nominal\", \"field\": \"\", \"legend\": null}, \"tooltip\": [{\"type\": \"nominal\", \"field\": \"name\"}, {\"type\": \"nominal\", \"field\": \"original\"}], \"x\": {\"type\": \"quantitative\", \"axis\": {\"title\": \"\\u5929\\u6c14\"}, \"field\": \"x_axis\"}, \"y\": {\"type\": \"quantitative\", \"axis\": {\"title\": \"\\u6c14\\u5019\"}, \"field\": \"y_axis\"}}, \"selection\": {\"selector001\": {\"type\": \"interval\", \"bind\": \"scales\", \"encodings\": [\"x\", \"y\"]}}, \"title\": \"\\u5929\\u6c14 vs. \\u6c14\\u5019\"}, {\"mark\": {\"type\": \"text\", \"color\": \"black\", \"dx\": -15, \"dy\": 3}, \"encoding\": {\"text\": {\"type\": \"nominal\", \"field\": \"original\"}, \"x\": {\"type\": \"quantitative\", \"field\": \"x_axis\"}, \"y\": {\"type\": \"quantitative\", \"field\": \"y_axis\"}}}], \"data\": {\"name\": \"data-b0bc12001207afd0f5f1ef39efbf73a3\"}, \"$schema\": \"https://vega.github.io/schema/vega-lite/v4.8.1.json\", \"datasets\": {\"data-b0bc12001207afd0f5f1ef39efbf73a3\": [{\"x_axis\": 0.37317192554473877, \"y_axis\": 0.27612239122390747, \"name\": \"\\u591a\\u4e91\", \"original\": \"\\u591a\\u4e91\"}, {\"x_axis\": 0.31763601303100586, \"y_axis\": 0.1645420342683792, \"name\": \"\\u5927\\u96e8\", \"original\": \"\\u5927\\u96e8\"}, {\"x_axis\": 0.36711934208869934, \"y_axis\": 0.19236645102500916, \"name\": \"\\u6674\\u6717\", \"original\": \"\\u6674\\u6717\"}, {\"x_axis\": 0.4249471426010132, \"y_axis\": 0.33696094155311584, \"name\": \"\\u53f0\\u98ce\", \"original\": \"\\u53f0\\u98ce\"}, {\"x_axis\": 0.18240588903427124, \"y_axis\": 0.20392030477523804, \"name\": \"\\u6e7f\\u6da6\", \"original\": \"\\u6e7f\\u6da6\"}, {\"x_axis\": 0.2459562122821808, \"y_axis\": 0.26862233877182007, \"name\": \"\\u5e72\\u71e5\", \"original\": \"\\u5e72\\u71e5\"}, {\"x_axis\": 1.0, \"y_axis\": 0.6044294238090515, \"name\": \"\\u5929\\u6c14\", \"original\": \"\\u5929\\u6c14\"}, {\"x_axis\": 0.5714064836502075, \"y_axis\": 1.0, \"name\": \"\\u6c14\\u5019\", \"original\": \"\\u6c14\\u5019\"}]}}, {\"mode\": \"vega-lite\"});\n",
       "</script>"
      ],
      "text/plain": [
       "alt.LayerChart(...)"
      ]
     },
     "execution_count": 1,
     "metadata": {},
     "output_type": "execute_result"
    }
   ],
   "source": [
    "from whatlies import EmbeddingSet\n",
    "from whatlies.language import SpacyLanguage\n",
    "#nlp = spacy.load(\"zh_core_web_md\")\n",
    "lang = SpacyLanguage('zh_core_web_md')\n",
    "\n",
    "words = ['多云', '大雨', '晴朗','台风','湿润','干燥','天气','气候']\n",
    "\n",
    "emb = EmbeddingSet(*[lang[w] for w in words])\n",
    "\n",
    "#emb = lang[words]\n",
    "emb.plot_interactive(x_axis=emb['天气'], y_axis='气候')"
   ]
  },
  {
   "cell_type": "code",
   "execution_count": 2,
   "metadata": {},
   "outputs": [
    {
     "data": {
      "text/html": [
       "\n",
       "<div id=\"altair-viz-407c94615f5e44178852535147a30c73\"></div>\n",
       "<script type=\"text/javascript\">\n",
       "  (function(spec, embedOpt){\n",
       "    let outputDiv = document.currentScript.previousElementSibling;\n",
       "    if (outputDiv.id !== \"altair-viz-407c94615f5e44178852535147a30c73\") {\n",
       "      outputDiv = document.getElementById(\"altair-viz-407c94615f5e44178852535147a30c73\");\n",
       "    }\n",
       "    const paths = {\n",
       "      \"vega\": \"https://cdn.jsdelivr.net/npm//vega@5?noext\",\n",
       "      \"vega-lib\": \"https://cdn.jsdelivr.net/npm//vega-lib?noext\",\n",
       "      \"vega-lite\": \"https://cdn.jsdelivr.net/npm//vega-lite@4.8.1?noext\",\n",
       "      \"vega-embed\": \"https://cdn.jsdelivr.net/npm//vega-embed@6?noext\",\n",
       "    };\n",
       "\n",
       "    function loadScript(lib) {\n",
       "      return new Promise(function(resolve, reject) {\n",
       "        var s = document.createElement('script');\n",
       "        s.src = paths[lib];\n",
       "        s.async = true;\n",
       "        s.onload = () => resolve(paths[lib]);\n",
       "        s.onerror = () => reject(`Error loading script: ${paths[lib]}`);\n",
       "        document.getElementsByTagName(\"head\")[0].appendChild(s);\n",
       "      });\n",
       "    }\n",
       "\n",
       "    function showError(err) {\n",
       "      outputDiv.innerHTML = `<div class=\"error\" style=\"color:red;\">${err}</div>`;\n",
       "      throw err;\n",
       "    }\n",
       "\n",
       "    function displayChart(vegaEmbed) {\n",
       "      vegaEmbed(outputDiv, spec, embedOpt)\n",
       "        .catch(err => showError(`Javascript Error: ${err.message}<br>This usually means there's a typo in your chart specification. See the javascript console for the full traceback.`));\n",
       "    }\n",
       "\n",
       "    if(typeof define === \"function\" && define.amd) {\n",
       "      requirejs.config({paths});\n",
       "      require([\"vega-embed\"], displayChart, err => showError(`Error loading script: ${err.message}`));\n",
       "    } else if (typeof vegaEmbed === \"function\") {\n",
       "      displayChart(vegaEmbed);\n",
       "    } else {\n",
       "      loadScript(\"vega\")\n",
       "        .then(() => loadScript(\"vega-lite\"))\n",
       "        .then(() => loadScript(\"vega-embed\"))\n",
       "        .catch(showError)\n",
       "        .then(() => displayChart(vegaEmbed));\n",
       "    }\n",
       "  })({\"config\": {\"view\": {\"continuousWidth\": 400, \"continuousHeight\": 300}}, \"layer\": [{\"mark\": {\"type\": \"circle\", \"size\": 60}, \"encoding\": {\"color\": {\"type\": \"nominal\", \"field\": \"\", \"legend\": null}, \"tooltip\": [{\"type\": \"nominal\", \"field\": \"name\"}, {\"type\": \"nominal\", \"field\": \"original\"}], \"x\": {\"type\": \"quantitative\", \"axis\": {\"title\": \"(\\u5929\\u6c14 | (\\u5e72\\u71e5 - \\u6e7f\\u6da6))\"}, \"field\": \"x_axis\"}, \"y\": {\"type\": \"quantitative\", \"axis\": {\"title\": \"(\\u6c14\\u5019 | (\\u5e72\\u71e5 - \\u6e7f\\u6da6))\"}, \"field\": \"y_axis\"}}, \"selection\": {\"selector003\": {\"type\": \"interval\", \"bind\": \"scales\", \"encodings\": [\"x\", \"y\"]}}, \"title\": \"(\\u5929\\u6c14 | (\\u5e72\\u71e5 - \\u6e7f\\u6da6)) vs. (\\u6c14\\u5019 | (\\u5e72\\u71e5 - \\u6e7f\\u6da6))\"}, {\"mark\": {\"type\": \"text\", \"color\": \"black\", \"dx\": -15, \"dy\": 3}, \"encoding\": {\"text\": {\"type\": \"nominal\", \"field\": \"original\"}, \"x\": {\"type\": \"quantitative\", \"field\": \"x_axis\"}, \"y\": {\"type\": \"quantitative\", \"field\": \"y_axis\"}}}], \"data\": {\"name\": \"data-8ea1146377c22310fc12d118e9a1f974\"}, \"$schema\": \"https://vega.github.io/schema/vega-lite/v4.8.1.json\", \"datasets\": {\"data-8ea1146377c22310fc12d118e9a1f974\": [{\"x_axis\": 0.37171247601509094, \"y_axis\": 0.2738305926322937, \"name\": \"(\\u591a\\u4e91 | (\\u5e72\\u71e5 - \\u6e7f\\u6da6))\", \"original\": \"\\u591a\\u4e91\"}, {\"x_axis\": 0.32242056727409363, \"y_axis\": 0.16821712255477905, \"name\": \"(\\u5927\\u96e8 | (\\u5e72\\u71e5 - \\u6e7f\\u6da6))\", \"original\": \"\\u5927\\u96e8\"}, {\"x_axis\": 0.36796215176582336, \"y_axis\": 0.19185855984687805, \"name\": \"(\\u6674\\u6717 | (\\u5e72\\u71e5 - \\u6e7f\\u6da6))\", \"original\": \"\\u6674\\u6717\"}, {\"x_axis\": 0.4240502417087555, \"y_axis\": 0.33529263734817505, \"name\": \"(\\u53f0\\u98ce | (\\u5e72\\u71e5 - \\u6e7f\\u6da6))\", \"original\": \"\\u53f0\\u98ce\"}, {\"x_axis\": 0.20699644088745117, \"y_axis\": 0.22905686497688293, \"name\": \"(\\u6e7f\\u6da6 | (\\u5e72\\u71e5 - \\u6e7f\\u6da6))\", \"original\": \"\\u6e7f\\u6da6\"}, {\"x_axis\": 0.20699641108512878, \"y_axis\": 0.22905686497688293, \"name\": \"(\\u5e72\\u71e5 | (\\u5e72\\u71e5 - \\u6e7f\\u6da6))\", \"original\": \"\\u5e72\\u71e5\"}, {\"x_axis\": 1.0, \"y_axis\": 0.6012901663780212, \"name\": \"(\\u5929\\u6c14 | (\\u5e72\\u71e5 - \\u6e7f\\u6da6))\", \"original\": \"\\u5929\\u6c14\"}, {\"x_axis\": 0.5685227513313293, \"y_axis\": 1.0, \"name\": \"(\\u6c14\\u5019 | (\\u5e72\\u71e5 - \\u6e7f\\u6da6))\", \"original\": \"\\u6c14\\u5019\"}]}}, {\"mode\": \"vega-lite\"});\n",
       "</script>"
      ],
      "text/plain": [
       "alt.LayerChart(...)"
      ]
     },
     "execution_count": 2,
     "metadata": {},
     "output_type": "execute_result"
    }
   ],
   "source": [
    "orig_chart = emb.plot_interactive(emb['天气'], emb['气候'])\n",
    "\n",
    "new_ts = emb | (emb['干燥'] - emb['湿润'])\n",
    "new_chart = new_ts.plot_interactive('天气', '气候')\n",
    "new_chart"
   ]
  },
  {
   "cell_type": "code",
   "execution_count": 3,
   "metadata": {},
   "outputs": [
    {
     "name": "stderr",
     "output_type": "stream",
     "text": [
      "D:\\ProgramData\\Anaconda3\\envs\\NLP_DEMO\\lib\\site-packages\\numba\\core\\errors.py:149: UserWarning: Insufficiently recent colorama version found. Numba requires colorama >= 0.3.9\n",
      "  warnings.warn(msg)\n"
     ]
    },
    {
     "data": {
      "text/html": [
       "\n",
       "<div id=\"altair-viz-0d1aadcc35cf49b3a917be0de760ba23\"></div>\n",
       "<script type=\"text/javascript\">\n",
       "  (function(spec, embedOpt){\n",
       "    let outputDiv = document.currentScript.previousElementSibling;\n",
       "    if (outputDiv.id !== \"altair-viz-0d1aadcc35cf49b3a917be0de760ba23\") {\n",
       "      outputDiv = document.getElementById(\"altair-viz-0d1aadcc35cf49b3a917be0de760ba23\");\n",
       "    }\n",
       "    const paths = {\n",
       "      \"vega\": \"https://cdn.jsdelivr.net/npm//vega@5?noext\",\n",
       "      \"vega-lib\": \"https://cdn.jsdelivr.net/npm//vega-lib?noext\",\n",
       "      \"vega-lite\": \"https://cdn.jsdelivr.net/npm//vega-lite@4.8.1?noext\",\n",
       "      \"vega-embed\": \"https://cdn.jsdelivr.net/npm//vega-embed@6?noext\",\n",
       "    };\n",
       "\n",
       "    function loadScript(lib) {\n",
       "      return new Promise(function(resolve, reject) {\n",
       "        var s = document.createElement('script');\n",
       "        s.src = paths[lib];\n",
       "        s.async = true;\n",
       "        s.onload = () => resolve(paths[lib]);\n",
       "        s.onerror = () => reject(`Error loading script: ${paths[lib]}`);\n",
       "        document.getElementsByTagName(\"head\")[0].appendChild(s);\n",
       "      });\n",
       "    }\n",
       "\n",
       "    function showError(err) {\n",
       "      outputDiv.innerHTML = `<div class=\"error\" style=\"color:red;\">${err}</div>`;\n",
       "      throw err;\n",
       "    }\n",
       "\n",
       "    function displayChart(vegaEmbed) {\n",
       "      vegaEmbed(outputDiv, spec, embedOpt)\n",
       "        .catch(err => showError(`Javascript Error: ${err.message}<br>This usually means there's a typo in your chart specification. See the javascript console for the full traceback.`));\n",
       "    }\n",
       "\n",
       "    if(typeof define === \"function\" && define.amd) {\n",
       "      requirejs.config({paths});\n",
       "      require([\"vega-embed\"], displayChart, err => showError(`Error loading script: ${err.message}`));\n",
       "    } else if (typeof vegaEmbed === \"function\") {\n",
       "      displayChart(vegaEmbed);\n",
       "    } else {\n",
       "      loadScript(\"vega\")\n",
       "        .then(() => loadScript(\"vega-lite\"))\n",
       "        .then(() => loadScript(\"vega-embed\"))\n",
       "        .catch(showError)\n",
       "        .then(() => displayChart(vegaEmbed));\n",
       "    }\n",
       "  })({\"config\": {\"view\": {\"continuousWidth\": 400, \"continuousHeight\": 300}}, \"hconcat\": [{\"layer\": [{\"mark\": {\"type\": \"circle\", \"size\": 60}, \"encoding\": {\"color\": {\"type\": \"nominal\", \"field\": \"\", \"legend\": null}, \"tooltip\": [{\"type\": \"nominal\", \"field\": \"name\"}, {\"type\": \"nominal\", \"field\": \"original\"}], \"x\": {\"type\": \"quantitative\", \"axis\": {\"title\": \"pca_0\"}, \"field\": \"x_axis\"}, \"y\": {\"type\": \"quantitative\", \"axis\": {\"title\": \"pca_1\"}, \"field\": \"y_axis\"}}, \"selection\": {\"selector005\": {\"type\": \"interval\", \"bind\": \"scales\", \"encodings\": [\"x\", \"y\"]}}, \"title\": \"Dimension 0 vs. Dimension 1\"}, {\"mark\": {\"type\": \"text\", \"color\": \"black\", \"dx\": -15, \"dy\": 3}, \"encoding\": {\"text\": {\"type\": \"nominal\", \"field\": \"original\"}, \"x\": {\"type\": \"quantitative\", \"field\": \"x_axis\"}, \"y\": {\"type\": \"quantitative\", \"field\": \"y_axis\"}}}], \"data\": {\"name\": \"data-5b30b0b00b08b0d6eb1617d3eb395eb3\"}}, {\"layer\": [{\"mark\": {\"type\": \"circle\", \"size\": 60}, \"encoding\": {\"color\": {\"type\": \"nominal\", \"field\": \"\", \"legend\": null}, \"tooltip\": [{\"type\": \"nominal\", \"field\": \"name\"}, {\"type\": \"nominal\", \"field\": \"original\"}], \"x\": {\"type\": \"quantitative\", \"axis\": {\"title\": \"umap_0\"}, \"field\": \"x_axis\"}, \"y\": {\"type\": \"quantitative\", \"axis\": {\"title\": \"umap_1\"}, \"field\": \"y_axis\"}}, \"selection\": {\"selector006\": {\"type\": \"interval\", \"bind\": \"scales\", \"encodings\": [\"x\", \"y\"]}}, \"title\": \"Dimension 0 vs. Dimension 1\"}, {\"mark\": {\"type\": \"text\", \"color\": \"black\", \"dx\": -15, \"dy\": 3}, \"encoding\": {\"text\": {\"type\": \"nominal\", \"field\": \"original\"}, \"x\": {\"type\": \"quantitative\", \"field\": \"x_axis\"}, \"y\": {\"type\": \"quantitative\", \"field\": \"y_axis\"}}}], \"data\": {\"name\": \"data-fa7f2f915e9da920208e547b7489be1e\"}}], \"$schema\": \"https://vega.github.io/schema/vega-lite/v4.8.1.json\", \"datasets\": {\"data-5b30b0b00b08b0d6eb1617d3eb395eb3\": [{\"x_axis\": -18.880313873291016, \"y_axis\": -11.397581100463867, \"name\": \"\\u591a\\u4e91\", \"original\": \"\\u591a\\u4e91\"}, {\"x_axis\": -12.039815902709961, \"y_axis\": -20.126358032226562, \"name\": \"\\u5927\\u96e8\", \"original\": \"\\u5927\\u96e8\"}, {\"x_axis\": -1.82489812374115, \"y_axis\": -18.103675842285156, \"name\": \"\\u6674\\u6717\", \"original\": \"\\u6674\\u6717\"}, {\"x_axis\": -24.120677947998047, \"y_axis\": 14.210877418518066, \"name\": \"\\u53f0\\u98ce\", \"original\": \"\\u53f0\\u98ce\"}, {\"x_axis\": 25.137479782104492, \"y_axis\": -6.905210494995117, \"name\": \"\\u6e7f\\u6da6\", \"original\": \"\\u6e7f\\u6da6\"}, {\"x_axis\": 28.843149185180664, \"y_axis\": -3.2953691482543945, \"name\": \"\\u5e72\\u71e5\", \"original\": \"\\u5e72\\u71e5\"}, {\"x_axis\": -4.074155807495117, \"y_axis\": 17.81882667541504, \"name\": \"\\u5929\\u6c14\", \"original\": \"\\u5929\\u6c14\"}, {\"x_axis\": 6.959234237670898, \"y_axis\": 27.798486709594727, \"name\": \"\\u6c14\\u5019\", \"original\": \"\\u6c14\\u5019\"}], \"data-fa7f2f915e9da920208e547b7489be1e\": [{\"x_axis\": 2.1149473190307617, \"y_axis\": 23.241682052612305, \"name\": \"\\u591a\\u4e91\", \"original\": \"\\u591a\\u4e91\"}, {\"x_axis\": 2.939955234527588, \"y_axis\": 22.95153045654297, \"name\": \"\\u5927\\u96e8\", \"original\": \"\\u5927\\u96e8\"}, {\"x_axis\": 2.7107765674591064, \"y_axis\": 23.824039459228516, \"name\": \"\\u6674\\u6717\", \"original\": \"\\u6674\\u6717\"}, {\"x_axis\": 1.9338037967681885, \"y_axis\": 24.50218391418457, \"name\": \"\\u53f0\\u98ce\", \"original\": \"\\u53f0\\u98ce\"}, {\"x_axis\": 3.833909273147583, \"y_axis\": 24.436553955078125, \"name\": \"\\u6e7f\\u6da6\", \"original\": \"\\u6e7f\\u6da6\"}, {\"x_axis\": 3.630681037902832, \"y_axis\": 23.714868545532227, \"name\": \"\\u5e72\\u71e5\", \"original\": \"\\u5e72\\u71e5\"}, {\"x_axis\": 2.420166254043579, \"y_axis\": 25.148374557495117, \"name\": \"\\u5929\\u6c14\", \"original\": \"\\u5929\\u6c14\"}, {\"x_axis\": 3.0121257305145264, \"y_axis\": 24.825828552246094, \"name\": \"\\u6c14\\u5019\", \"original\": \"\\u6c14\\u5019\"}]}}, {\"mode\": \"vega-lite\"});\n",
       "</script>"
      ],
      "text/plain": [
       "alt.HConcatChart(...)"
      ]
     },
     "execution_count": 3,
     "metadata": {},
     "output_type": "execute_result"
    }
   ],
   "source": [
    "from whatlies.transformers import Pca, Umap\n",
    "\n",
    "orig_chart = emb.plot_interactive('天气', '气候')\n",
    "pca_plot = emb.transform(Pca(2)).plot_interactive(x_label='pca_0', y_label='pca_1')\n",
    "umap_plot = emb.transform(Umap(2)).plot_interactive(x_label='umap_0', y_label='umap_1')\n",
    "\n",
    "pca_plot | umap_plot"
   ]
  },
  {
   "cell_type": "code",
   "execution_count": null,
   "metadata": {},
   "outputs": [],
   "source": []
  },
  {
   "cell_type": "code",
   "execution_count": null,
   "metadata": {},
   "outputs": [],
   "source": []
  },
  {
   "cell_type": "code",
   "execution_count": null,
   "metadata": {},
   "outputs": [],
   "source": []
  }
 ],
 "metadata": {
  "kernelspec": {
   "display_name": "Python [conda env:NLP_DEMO]",
   "language": "python",
   "name": "conda-env-NLP_DEMO-py"
  },
  "language_info": {
   "codemirror_mode": {
    "name": "ipython",
    "version": 3
   },
   "file_extension": ".py",
   "mimetype": "text/x-python",
   "name": "python",
   "nbconvert_exporter": "python",
   "pygments_lexer": "ipython3",
   "version": "3.6.8"
  },
  "toc": {
   "base_numbering": 1,
   "nav_menu": {},
   "number_sections": true,
   "sideBar": true,
   "skip_h1_title": false,
   "title_cell": "Table of Contents",
   "title_sidebar": "Contents",
   "toc_cell": false,
   "toc_position": {},
   "toc_section_display": true,
   "toc_window_display": false
  }
 },
 "nbformat": 4,
 "nbformat_minor": 4
}
