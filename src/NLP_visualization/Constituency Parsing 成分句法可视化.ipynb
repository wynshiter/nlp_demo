{
 "cells": [
  {
   "cell_type": "code",
   "execution_count": null,
   "metadata": {},
   "outputs": [],
   "source": []
  },
  {
   "cell_type": "code",
   "execution_count": 3,
   "metadata": {},
   "outputs": [
    {
     "name": "stdout",
     "output_type": "stream",
     "text": [
      "Tokenize: ['今天', '天气', '不错', ',', '挺', '风和日丽', '的', ',', '我们', '下午', '没有', '课', '。']\n",
      "Part of Speech: [('今天', 'NT'), ('天气', 'NN'), ('不错', 'VA'), (',', 'PU'), ('挺', 'AD'), ('风和日丽', 'VA'), ('的', 'SP'), (',', 'PU'), ('我们', 'PN'), ('下午', 'NT'), ('没有', 'VE'), ('课', 'NN'), ('。', 'PU')]\n",
      "Named Entities: [('今天', 'DATE'), ('天气', 'O'), ('不错', 'O'), (',', 'O'), ('挺', 'O'), ('风和日丽', 'O'), ('的', 'O'), (',', 'O'), ('我们', 'O'), ('下午', 'TIME'), ('没有', 'O'), ('课', 'O'), ('。', 'O')]\n",
      "Constituency Parsing: (ROOT\n",
      "  (IP\n",
      "    (IP\n",
      "      (NP (NT 今天))\n",
      "      (NP (NN 天气))\n",
      "      (VP (VA 不错)))\n",
      "    (PU ,)\n",
      "    (CP\n",
      "      (IP\n",
      "        (VP\n",
      "          (ADVP (AD 挺))\n",
      "          (VP (VA 风和日丽))))\n",
      "      (SP 的))\n",
      "    (PU ,)\n",
      "    (IP\n",
      "      (NP\n",
      "        (NP (PN 我们))\n",
      "        (NP (NT 下午)))\n",
      "      (VP (VE 没有)\n",
      "        (NP (NN 课))))\n",
      "    (PU 。)))\n",
      "Dependency Parsing: [('ROOT', 0, 3), ('nmod:tmod', 3, 1), ('nsubj', 3, 2), ('punct', 3, 4), ('advmod', 6, 5), ('conj', 3, 6), ('mark', 6, 7), ('punct', 3, 8), ('nsubj', 11, 9), ('nmod:tmod', 11, 10), ('conj', 3, 11), ('dobj', 11, 12), ('punct', 3, 13)]\n"
     ]
    }
   ],
   "source": [
    "from stanfordcorenlp import StanfordCoreNLP\n",
    "from nltk.tree import Tree\n",
    "\n",
    "nlp = StanfordCoreNLP(r'D:\\code\\python\\csdn_nlp\\stanford-corenlp-latest\\stanford-corenlp-4.0.0',lang='zh')\n",
    "\n",
    "\n",
    "sentence ='今天天气不错,挺风和日丽的,我们下午没有课。'\n",
    "\n",
    "print ('Tokenize:', nlp.word_tokenize(sentence))\n",
    "print ('Part of Speech:', nlp.pos_tag(sentence))\n",
    "print ('Named Entities:', nlp.ner(sentence))\n",
    "print ('Constituency Parsing:', nlp.parse(sentence))#语法树\n",
    "print ('Dependency Parsing:', nlp.dependency_parse(sentence))#依存句法\n",
    "\n"
   ]
  },
  {
   "cell_type": "code",
   "execution_count": 4,
   "metadata": {},
   "outputs": [
    {
     "name": "stdout",
     "output_type": "stream",
     "text": [
      "8\n",
      "['今天', '天气', '不错', ',', '挺', '风和日丽', '的', ',', '我们', '下午', '没有', '课', '。']\n"
     ]
    },
    {
     "data": {
      "text/plain": [
       "[ROOT -> IP,\n",
       " IP -> IP PU CP PU IP PU,\n",
       " IP -> NP NP VP,\n",
       " NP -> NT,\n",
       " NT -> '今天',\n",
       " NP -> NN,\n",
       " NN -> '天气',\n",
       " VP -> VA,\n",
       " VA -> '不错',\n",
       " PU -> ',',\n",
       " CP -> IP SP,\n",
       " IP -> VP,\n",
       " VP -> ADVP VP,\n",
       " ADVP -> AD,\n",
       " AD -> '挺',\n",
       " VP -> VA,\n",
       " VA -> '风和日丽',\n",
       " SP -> '的',\n",
       " PU -> ',',\n",
       " IP -> NP VP,\n",
       " NP -> NP NP,\n",
       " NP -> PN,\n",
       " PN -> '我们',\n",
       " NP -> NT,\n",
       " NT -> '下午',\n",
       " VP -> VE NP,\n",
       " VE -> '没有',\n",
       " NP -> NN,\n",
       " NN -> '课',\n",
       " PU -> '。']"
      ]
     },
     "execution_count": 4,
     "metadata": {},
     "output_type": "execute_result"
    }
   ],
   "source": [
    "tree=Tree.fromstring(nlp.parse(sentence))\n",
    "tree.draw()\n",
    "\n",
    "\n",
    "print(tree.height())#树的高度\n",
    "print(tree.leaves())#树的叶子结点\n",
    "\n",
    "tree.productions()#生成与树的非终端节点对应的结果"
   ]
  },
  {
   "cell_type": "code",
   "execution_count": null,
   "metadata": {},
   "outputs": [],
   "source": []
  }
 ],
 "metadata": {
  "kernelspec": {
   "display_name": "Python [conda env:NLP_DEMO]",
   "language": "python",
   "name": "conda-env-NLP_DEMO-py"
  },
  "language_info": {
   "codemirror_mode": {
    "name": "ipython",
    "version": 3
   },
   "file_extension": ".py",
   "mimetype": "text/x-python",
   "name": "python",
   "nbconvert_exporter": "python",
   "pygments_lexer": "ipython3",
   "version": "3.6.8"
  },
  "toc": {
   "base_numbering": 1,
   "nav_menu": {},
   "number_sections": true,
   "sideBar": true,
   "skip_h1_title": false,
   "title_cell": "Table of Contents",
   "title_sidebar": "Contents",
   "toc_cell": false,
   "toc_position": {},
   "toc_section_display": true,
   "toc_window_display": false
  }
 },
 "nbformat": 4,
 "nbformat_minor": 4
}
