{
 "cells": [
  {
   "cell_type": "code",
   "execution_count": 17,
   "metadata": {},
   "outputs": [],
   "source": [
    "\n",
    "import spacy\n",
    "#nlp = spacy.load(\"en_core_web_md\")\n",
    "nlp = spacy.load(\"en\")\n",
    "nlp = spacy.load(\"zh_core_web_md\")"
   ]
  },
  {
   "cell_type": "code",
   "execution_count": 18,
   "metadata": {},
   "outputs": [],
   "source": [
    "from chatterbot import ChatBot\n",
    "from chatterbot.trainers import ChatterBotCorpusTrainer\n",
    "# Create a new instance of a ChatBot\n",
    "bot = ChatBot(\n",
    "    'mybot',\n",
    "    storage_adapter='chatterbot.storage.SQLStorageAdapter',\n",
    "    database_uri='sqlite:///database.db'\n",
    ")\n"
   ]
  },
  {
   "cell_type": "code",
   "execution_count": 19,
   "metadata": {},
   "outputs": [
    {
     "name": "stdout",
     "output_type": "stream",
     "text": [
      "Training ai.yml: [####################] 100%\n",
      "Training botprofile.yml: [####################] 100%\n",
      "Training conversations.yml: [####################] 100%\n",
      "Training emotion.yml: [####################] 100%\n",
      "Training food.yml: [####################] 100%\n",
      "Training gossip.yml: [####################] 100%\n",
      "Training greetings.yml: [####################] 100%\n",
      "Training history.yml: [####################] 100%\n",
      "Training humor.yml: [####################] 100%\n",
      "Training literature.yml: [####################] 100%\n",
      "Training money.yml: [####################] 100%\n",
      "Training movies.yml: [####################] 100%\n",
      "Training politics.yml: [####################] 100%\n",
      "Training psychology.yml: [####################] 100%\n",
      "Training science.yml: [####################] 100%\n",
      "Training sports.yml: [####################] 100%\n",
      "Training trivia.yml: [####################] 100%\n",
      "Training ai.yml: [####################] 100%\n",
      "Training botprofile.yml: [####################] 100%\n",
      "Training computers.yml: [####################] 100%\n",
      "Training conversations.yml: [####################] 100%\n",
      "Training emotion.yml: [####################] 100%\n",
      "Training food.yml: [####################] 100%\n",
      "Training gossip.yml: [####################] 100%\n",
      "Training greetings.yml: [####################] 100%\n",
      "Training health.yml: [####################] 100%\n",
      "Training history.yml: [####################] 100%\n",
      "Training humor.yml: [####################] 100%\n",
      "Training literature.yml: [####################] 100%\n",
      "Training money.yml: [####################] 100%\n",
      "Training movies.yml: [####################] 100%\n",
      "Training politics.yml: [####################] 100%\n",
      "Training psychology.yml: [####################] 100%\n",
      "Training science.yml: [####################] 100%\n",
      "Training sports.yml: [####################] 100%\n",
      "Training trivia.yml: [####################] 100%\n"
     ]
    }
   ],
   "source": [
    "trainer = ChatterBotCorpusTrainer(bot)\n",
    "trainer.train(\"chatterbot.corpus.chinese\")\n",
    "trainer.train(\"chatterbot.corpus.english\")"
   ]
  },
  {
   "cell_type": "code",
   "execution_count": null,
   "metadata": {},
   "outputs": [
    {
     "name": "stdout",
     "output_type": "stream",
     "text": [
      "Type something to begin...\n",
      ">>> 你好\n",
      "你好\n",
      ">>> 干啥呢\n",
      "Who is your mother\n",
      ">>> 啥东西？\n",
      "是谁写的科学怪人\n",
      ">>> 干点撒\n",
      "那是我的名字。\n",
      ">>> 今天天气不错\n",
      "who wrote the idiot\n"
     ]
    }
   ],
   "source": [
    "from chatterbot import ChatBot\n",
    "from chatterbot.trainers import ChatterBotCorpusTrainer\n",
    "# Create a new instance of a ChatBot\n",
    "bot = ChatBot(\n",
    "    'Terminal',\n",
    "    storage_adapter='chatterbot.storage.SQLStorageAdapter',\n",
    "    database_uri='sqlite:///database.db'\n",
    ")\n",
    "trainer = ChatterBotCorpusTrainer(bot)\n",
    "print('Type something to begin...')\n",
    "\n",
    "def r(s):return bot.get_response(s).text\n",
    "# The following loop will execute each time the user enters input\n",
    "while True:\n",
    "    try:\n",
    "      i = input('>>> ').strip()\n",
    "      if i != 'exit':\n",
    "        print(r(i))\n",
    "    # Press ctrl-c or ctrl-d on the keyboard to exit\n",
    "    except (KeyboardInterrupt, EOFError, SystemExit):\n",
    "        break\n"
   ]
  },
  {
   "cell_type": "code",
   "execution_count": null,
   "metadata": {},
   "outputs": [],
   "source": []
  }
 ],
 "metadata": {
  "kernelspec": {
   "display_name": "Python [conda env:NLP_DEMO]",
   "language": "python",
   "name": "conda-env-NLP_DEMO-py"
  },
  "language_info": {
   "codemirror_mode": {
    "name": "ipython",
    "version": 3
   },
   "file_extension": ".py",
   "mimetype": "text/x-python",
   "name": "python",
   "nbconvert_exporter": "python",
   "pygments_lexer": "ipython3",
   "version": "3.6.8"
  },
  "toc": {
   "base_numbering": 1,
   "nav_menu": {},
   "number_sections": true,
   "sideBar": true,
   "skip_h1_title": false,
   "title_cell": "Table of Contents",
   "title_sidebar": "Contents",
   "toc_cell": false,
   "toc_position": {},
   "toc_section_display": true,
   "toc_window_display": false
  }
 },
 "nbformat": 4,
 "nbformat_minor": 4
}
